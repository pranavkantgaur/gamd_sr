{
  "nbformat": 4,
  "nbformat_minor": 0,
  "metadata": {
    "colab": {
      "provenance": [],
      "include_colab_link": true
    },
    "kernelspec": {
      "display_name": "Julia",
      "language": "julia",
      "name": "julia"
    },
    "language_info": {
      "file_extension": ".jl",
      "mimetype": "application/julia",
      "name": "julia"
    },
    "gpuClass": "standard"
  },
  "cells": [
    {
      "cell_type": "markdown",
      "metadata": {
        "id": "view-in-github",
        "colab_type": "text"
      },
      "source": [
        "<a href=\"https://colab.research.google.com/github/pranavkantgaur/gamd_sr/blob/main/sr_for_lj_potential.ipynb\" target=\"_parent\"><img src=\"https://colab.research.google.com/assets/colab-badge.svg\" alt=\"Open In Colab\"/></a>"
      ]
    },
    {
      "cell_type": "markdown",
      "metadata": {
        "id": "tQ1r1bbb0yBv"
      },
      "source": [
        "# <img src=\"https://github.com/JuliaLang/julia-logo-graphics/raw/master/images/julia-logo-color.png\" height=\"100\" /> _Colab Notebook Template_\n",
        "\n",
        "## Instructions\n",
        "1. Work on a copy of this notebook: _File_ > _Save a copy in Drive_ (you will need a Google account). Alternatively, you can download the notebook using _File_ > _Download .ipynb_, then upload it to [Colab](https://colab.research.google.com/).\n",
        "2. If you need a GPU: _Runtime_ > _Change runtime type_ > _Harware accelerator_ = _GPU_.\n",
        "3. Execute the following cell (click on it and press Ctrl+Enter) to install Julia, IJulia and other packages (if needed, update `JULIA_VERSION` and the other parameters). This takes a couple of minutes.\n",
        "4. Reload this page (press Ctrl+R, or ⌘+R, or the F5 key) and continue to the next section.\n",
        "\n",
        "_Notes_:\n",
        "* If your Colab Runtime gets reset (e.g., due to inactivity), repeat steps 2, 3 and 4.\n",
        "* After installation, if you want to change the Julia version or activate/deactivate the GPU, you will need to reset the Runtime: _Runtime_ > _Factory reset runtime_ and repeat steps 3 and 4."
      ]
    },
    {
      "cell_type": "code",
      "metadata": {
        "id": "GIeFXS0F0zww",
        "colab": {
          "base_uri": "https://localhost:8080/"
        },
        "outputId": "c991bb25-b3af-4339-a6f2-73b61d1168ec"
      },
      "source": [
        "%%shell\n",
        "set -e\n",
        "\n",
        "#---------------------------------------------------#\n",
        "JULIA_VERSION=\"1.10.0\" # any version ≥ 0.7.0\n",
        "JULIA_PACKAGES=\"IJulia BenchmarkTools\"\n",
        "JULIA_PACKAGES_IF_GPU=\"CUDA\" # or CuArrays for older Julia versions\n",
        "JULIA_NUM_THREADS=2\n",
        "#---------------------------------------------------#\n",
        "\n",
        "if [ -z `which julia` ]; then\n",
        "  # Install Julia\n",
        "  JULIA_VER=`cut -d '.' -f -2 <<< \"$JULIA_VERSION\"`\n",
        "  echo \"Installing Julia $JULIA_VERSION on the current Colab Runtime...\"\n",
        "  BASE_URL=\"https://julialang-s3.julialang.org/bin/linux/x64\"\n",
        "  URL=\"$BASE_URL/$JULIA_VER/julia-$JULIA_VERSION-linux-x86_64.tar.gz\"\n",
        "  wget -nv $URL -O /tmp/julia.tar.gz # -nv means \"not verbose\"\n",
        "  tar -x -f /tmp/julia.tar.gz -C /usr/local --strip-components 1\n",
        "  rm /tmp/julia.tar.gz\n",
        "\n",
        "  # Install Packages\n",
        "  nvidia-smi -L &> /dev/null && export GPU=1 || export GPU=0\n",
        "  if [ $GPU -eq 1 ]; then\n",
        "    JULIA_PACKAGES=\"$JULIA_PACKAGES $JULIA_PACKAGES_IF_GPU\"\n",
        "  fi\n",
        "  for PKG in `echo $JULIA_PACKAGES`; do\n",
        "    echo \"Installing Julia package $PKG...\"\n",
        "    julia -e 'using Pkg; pkg\"add '$PKG'; precompile;\"' &> /dev/null\n",
        "  done\n",
        "\n",
        "  # Install kernel and rename it to \"julia\"\n",
        "  echo \"Installing IJulia kernel...\"\n",
        "  julia -e 'using IJulia; IJulia.installkernel(\"julia\", env=Dict(\n",
        "      \"JULIA_NUM_THREADS\"=>\"'\"$JULIA_NUM_THREADS\"'\"))'\n",
        "  KERNEL_DIR=`julia -e \"using IJulia; print(IJulia.kerneldir())\"`\n",
        "  KERNEL_NAME=`ls -d \"$KERNEL_DIR\"/julia*`\n",
        "  mv -f $KERNEL_NAME \"$KERNEL_DIR\"/julia\n",
        "\n",
        "  echo ''\n",
        "  echo \"Successfully installed `julia -v`!\"\n",
        "  echo \"Please reload this page (press Ctrl+R, ⌘+R, or the F5 key) then\"\n",
        "  echo \"jump to the 'Checking the Installation' section.\"\n",
        "fi"
      ],
      "execution_count": null,
      "outputs": [
        {
          "output_type": "stream",
          "name": "stdout",
          "text": [
            "Installing Julia 1.10.0 on the current Colab Runtime...\n",
            "2024-11-26 08:12:19 URL:https://storage.googleapis.com/julialang2/bin/linux/x64/1.10/julia-1.10.0-linux-x86_64.tar.gz [168592090/168592090] -> \"/tmp/julia.tar.gz\" [1]\n",
            "Installing Julia package IJulia...\n",
            "Installing Julia package BenchmarkTools...\n",
            "Installing IJulia kernel...\n",
            "\u001b[36m\u001b[1m[ \u001b[22m\u001b[39m\u001b[36m\u001b[1mInfo: \u001b[22m\u001b[39mInstalling julia kernelspec in /root/.local/share/jupyter/kernels/julia-1.10\n",
            "\n",
            "Successfully installed julia version 1.10.0!\n",
            "Please reload this page (press Ctrl+R, ⌘+R, or the F5 key) then\n",
            "jump to the 'Checking the Installation' section.\n"
          ]
        },
        {
          "output_type": "execute_result",
          "data": {
            "text/plain": []
          },
          "metadata": {},
          "execution_count": 1
        }
      ]
    },
    {
      "cell_type": "markdown",
      "metadata": {
        "id": "-OS3Ac017T1i"
      },
      "source": [
        "# Checking the Installation\n",
        "The `versioninfo()` function should print your Julia version and some other info about the system:"
      ]
    },
    {
      "cell_type": "code",
      "metadata": {
        "id": "EEzvvzCl1i0F",
        "colab": {
          "base_uri": "https://localhost:8080/"
        },
        "outputId": "1caf1cfa-d25f-476a-87bd-0dea7cb196b9"
      },
      "source": [
        "versioninfo()"
      ],
      "execution_count": 1,
      "outputs": [
        {
          "output_type": "stream",
          "name": "stdout",
          "text": [
            "Julia Version 1.10.0\n",
            "Commit 3120989f39b (2023-12-25 18:01 UTC)\n",
            "Build Info:\n",
            "  Official https://julialang.org/ release\n",
            "Platform Info:\n",
            "  OS: Linux (x86_64-linux-gnu)\n",
            "  CPU: 2 × Intel(R) Xeon(R) CPU @ 2.20GHz\n",
            "  WORD_SIZE: 64\n",
            "  LIBM: libopenlibm\n",
            "  LLVM: libLLVM-15.0.7 (ORCJIT, broadwell)\n",
            "  Threads: 3 on 2 virtual cores\n",
            "Environment:\n",
            "  LD_LIBRARY_PATH = /usr/local/nvidia/lib:/usr/local/nvidia/lib64\n",
            "  JULIA_NUM_THREADS = 2\n"
          ]
        }
      ]
    },
    {
      "cell_type": "code",
      "source": [
        "using BenchmarkTools\n",
        "\n",
        "M = rand(2^11, 2^11)\n",
        "\n",
        "@btime $M * $M;"
      ],
      "metadata": {
        "id": "YjM_qq54lCcs",
        "colab": {
          "base_uri": "https://localhost:8080/"
        },
        "outputId": "1b9d7baf-a43f-40ce-eacd-465c95723c24"
      },
      "execution_count": 2,
      "outputs": [
        {
          "output_type": "stream",
          "name": "stdout",
          "text": [
            "  547.783 ms (2 allocations: 32.00 MiB)\n"
          ]
        }
      ]
    },
    {
      "cell_type": "code",
      "source": [
        "using Pkg\n",
        "Pkg.add(\"SymbolicRegression\")\n",
        "Pkg.add(\"MLJ\")"
      ],
      "metadata": {
        "id": "SCN2x6xEgWCF",
        "colab": {
          "base_uri": "https://localhost:8080/"
        },
        "outputId": "4137c560-090c-4bd3-e05a-0286a1c22bf2"
      },
      "execution_count": 9,
      "outputs": [
        {
          "output_type": "stream",
          "name": "stderr",
          "text": [
            "\u001b[32m\u001b[1m   Resolving\u001b[22m\u001b[39m package versions...\n",
            "\u001b[32m\u001b[1m  No Changes\u001b[22m\u001b[39m to `~/.julia/environments/v1.10/Project.toml`\n",
            "\u001b[32m\u001b[1m  No Changes\u001b[22m\u001b[39m to `~/.julia/environments/v1.10/Manifest.toml`\n",
            "\u001b[32m\u001b[1m   Resolving\u001b[22m\u001b[39m package versions...\n",
            "\u001b[32m\u001b[1m   Installed\u001b[22m\u001b[39m LoggingExtras ─────────────── v1.1.0\n",
            "\u001b[32m\u001b[1m   Installed\u001b[22m\u001b[39m HypergeometricFunctions ───── v0.3.25\n",
            "\u001b[32m\u001b[1m   Installed\u001b[22m\u001b[39m NNlib ─────────────────────── v0.9.26\n",
            "\u001b[32m\u001b[1m   Installed\u001b[22m\u001b[39m ShowCases ─────────────────── v0.1.0\n",
            "\u001b[32m\u001b[1m   Installed\u001b[22m\u001b[39m Accessors ─────────────────── v0.1.38\n",
            "\u001b[32m\u001b[1m   Installed\u001b[22m\u001b[39m RelocatableFolders ────────── v1.0.1\n",
            "\u001b[32m\u001b[1m   Installed\u001b[22m\u001b[39m StatsFuns ─────────────────── v1.3.2\n",
            "\u001b[32m\u001b[1m   Installed\u001b[22m\u001b[39m ContextVariablesX ─────────── v0.1.3\n",
            "\u001b[32m\u001b[1m   Installed\u001b[22m\u001b[39m CategoricalDistributions ──── v0.1.15\n",
            "\u001b[32m\u001b[1m   Installed\u001b[22m\u001b[39m StaticArrays ──────────────── v1.9.8\n",
            "\u001b[32m\u001b[1m   Installed\u001b[22m\u001b[39m CEnum ─────────────────────── v0.5.0\n",
            "\u001b[32m\u001b[1m   Installed\u001b[22m\u001b[39m PDMats ────────────────────── v0.11.31\n",
            "\u001b[32m\u001b[1m   Installed\u001b[22m\u001b[39m DelimitedFiles ────────────── v1.9.1\n",
            "\u001b[32m\u001b[1m   Installed\u001b[22m\u001b[39m ConcurrentUtilities ───────── v2.4.2\n",
            "\u001b[32m\u001b[1m   Installed\u001b[22m\u001b[39m InitialValues ─────────────── v0.3.1\n",
            "\u001b[32m\u001b[1m   Installed\u001b[22m\u001b[39m InvertedIndices ───────────── v1.3.0\n",
            "\u001b[32m\u001b[1m   Installed\u001b[22m\u001b[39m OpenSSL ───────────────────── v1.4.3\n",
            "\u001b[32m\u001b[1m   Installed\u001b[22m\u001b[39m LearnAPI ──────────────────── v0.1.0\n",
            "\u001b[32m\u001b[1m   Installed\u001b[22m\u001b[39m HTTP ──────────────────────── v1.10.12\n",
            "\u001b[32m\u001b[1m   Installed\u001b[22m\u001b[39m EarlyStopping ─────────────── v0.3.0\n",
            "\u001b[32m\u001b[1m   Installed\u001b[22m\u001b[39m IterationControl ──────────── v0.5.4\n",
            "\u001b[32m\u001b[1m   Installed\u001b[22m\u001b[39m PrettyPrint ───────────────── v0.2.0\n",
            "\u001b[32m\u001b[1m   Installed\u001b[22m\u001b[39m MLUtils ───────────────────── v0.4.4\n",
            "\u001b[32m\u001b[1m   Installed\u001b[22m\u001b[39m Distances ─────────────────── v0.10.12\n",
            "\u001b[32m\u001b[1m   Installed\u001b[22m\u001b[39m LLVM ──────────────────────── v9.1.3\n",
            "\u001b[32m\u001b[1m   Installed\u001b[22m\u001b[39m PtrArrays ─────────────────── v1.2.1\n",
            "\u001b[32m\u001b[1m   Installed\u001b[22m\u001b[39m SimpleBufferStream ────────── v1.2.0\n",
            "\u001b[32m\u001b[1m   Installed\u001b[22m\u001b[39m MicroCollections ──────────── v0.2.0\n",
            "\u001b[32m\u001b[1m   Installed\u001b[22m\u001b[39m FLoopsBase ────────────────── v0.1.1\n",
            "\u001b[32m\u001b[1m   Installed\u001b[22m\u001b[39m MLJIteration ──────────────── v0.6.3\n",
            "\u001b[32m\u001b[1m   Installed\u001b[22m\u001b[39m StatisticalMeasures ───────── v0.1.7\n",
            "\u001b[32m\u001b[1m   Installed\u001b[22m\u001b[39m TranscodingStreams ────────── v0.11.3\n",
            "\u001b[32m\u001b[1m   Installed\u001b[22m\u001b[39m MLJFlow ───────────────────── v0.5.0\n",
            "\u001b[32m\u001b[1m   Installed\u001b[22m\u001b[39m MLJBase ───────────────────── v1.7.0\n",
            "\u001b[32m\u001b[1m   Installed\u001b[22m\u001b[39m DefineSingletons ──────────── v0.1.2\n",
            "\u001b[32m\u001b[1m   Installed\u001b[22m\u001b[39m NameResolution ────────────── v0.1.5\n",
            "\u001b[32m\u001b[1m   Installed\u001b[22m\u001b[39m UnsafeAtomicsLLVM ─────────── v0.2.1\n",
            "\u001b[32m\u001b[1m   Installed\u001b[22m\u001b[39m Rmath_jll ─────────────────── v0.5.1+0\n",
            "\u001b[32m\u001b[1m   Installed\u001b[22m\u001b[39m ComputationalResources ────── v0.3.2\n",
            "\u001b[32m\u001b[1m   Installed\u001b[22m\u001b[39m CodecZlib ─────────────────── v0.7.6\n",
            "\u001b[32m\u001b[1m   Installed\u001b[22m\u001b[39m PrettyPrinting ────────────── v0.4.2\n",
            "\u001b[32m\u001b[1m   Installed\u001b[22m\u001b[39m BangBang ──────────────────── v0.4.3\n",
            "\u001b[32m\u001b[1m   Installed\u001b[22m\u001b[39m MLStyle ───────────────────── v0.4.17\n",
            "\u001b[32m\u001b[1m   Installed\u001b[22m\u001b[39m MLJModels ─────────────────── v0.17.4\n",
            "\u001b[32m\u001b[1m   Installed\u001b[22m\u001b[39m FLoops ────────────────────── v0.2.2\n",
            "\u001b[32m\u001b[1m   Installed\u001b[22m\u001b[39m MLJ ───────────────────────── v0.20.7\n",
            "\u001b[32m\u001b[1m   Installed\u001b[22m\u001b[39m Scratch ───────────────────── v1.2.1\n",
            "\u001b[32m\u001b[1m   Installed\u001b[22m\u001b[39m TableTraits ───────────────── v1.0.1\n",
            "\u001b[32m\u001b[1m   Installed\u001b[22m\u001b[39m PrettyTables ──────────────── v2.4.0\n",
            "\u001b[32m\u001b[1m   Installed\u001b[22m\u001b[39m ExceptionUnwrapping ───────── v0.1.11\n",
            "\u001b[32m\u001b[1m   Installed\u001b[22m\u001b[39m DataValueInterfaces ───────── v1.0.0\n",
            "\u001b[32m\u001b[1m   Installed\u001b[22m\u001b[39m ColorTypes ────────────────── v0.11.5\n",
            "\u001b[32m\u001b[1m   Installed\u001b[22m\u001b[39m StatisticalMeasuresBase ───── v0.1.1\n",
            "\u001b[32m\u001b[1m   Installed\u001b[22m\u001b[39m ArgCheck ──────────────────── v2.4.0\n",
            "\u001b[32m\u001b[1m   Installed\u001b[22m\u001b[39m LLVMExtra_jll ─────────────── v0.0.34+0\n",
            "\u001b[32m\u001b[1m   Installed\u001b[22m\u001b[39m CategoricalArrays ─────────── v0.10.8\n",
            "\u001b[32m\u001b[1m   Installed\u001b[22m\u001b[39m FeatureSelection ──────────── v0.2.2\n",
            "\u001b[32m\u001b[1m   Installed\u001b[22m\u001b[39m ScientificTypes ───────────── v3.0.2\n",
            "\u001b[32m\u001b[1m   Installed\u001b[22m\u001b[39m ARFFFiles ─────────────────── v1.5.0\n",
            "\u001b[32m\u001b[1m   Installed\u001b[22m\u001b[39m UnsafeAtomics ─────────────── v0.2.1\n",
            "\u001b[32m\u001b[1m   Installed\u001b[22m\u001b[39m InverseFunctions ──────────── v0.1.17\n",
            "\u001b[32m\u001b[1m   Installed\u001b[22m\u001b[39m OpenML ────────────────────── v0.3.2\n",
            "\u001b[32m\u001b[1m   Installed\u001b[22m\u001b[39m KernelAbstractions ────────── v0.9.29\n",
            "\u001b[32m\u001b[1m   Installed\u001b[22m\u001b[39m Combinatorics ─────────────── v1.0.2\n",
            "\u001b[32m\u001b[1m   Installed\u001b[22m\u001b[39m Atomix ────────────────────── v0.1.0\n",
            "\u001b[32m\u001b[1m   Installed\u001b[22m\u001b[39m Transducers ───────────────── v0.4.84\n",
            "\u001b[32m\u001b[1m   Installed\u001b[22m\u001b[39m JuliaVariables ────────────── v0.2.4\n",
            "\u001b[32m\u001b[1m   Installed\u001b[22m\u001b[39m AliasTables ───────────────── v1.1.3\n",
            "\u001b[32m\u001b[1m   Installed\u001b[22m\u001b[39m CompositionsBase ──────────── v0.1.2\n",
            "\u001b[32m\u001b[1m   Installed\u001b[22m\u001b[39m SimpleTraits ──────────────── v0.9.4\n",
            "\u001b[32m\u001b[1m   Installed\u001b[22m\u001b[39m StableRNGs ────────────────── v1.0.2\n",
            "\u001b[32m\u001b[1m   Installed\u001b[22m\u001b[39m GPUArraysCore ─────────────── v0.2.0\n",
            "\u001b[32m\u001b[1m   Installed\u001b[22m\u001b[39m OpenSSL_jll ───────────────── v3.0.15+1\n",
            "\u001b[32m\u001b[1m   Installed\u001b[22m\u001b[39m Crayons ───────────────────── v4.1.1\n",
            "\u001b[32m\u001b[1m   Installed\u001b[22m\u001b[39m Rmath ─────────────────────── v0.8.0\n",
            "\u001b[32m\u001b[1m   Installed\u001b[22m\u001b[39m MLJEnsembles ──────────────── v0.4.3\n",
            "\u001b[32m\u001b[1m   Installed\u001b[22m\u001b[39m MLFlowClient ──────────────── v0.5.1\n",
            "\u001b[32m\u001b[1m   Installed\u001b[22m\u001b[39m FixedPointNumbers ─────────── v0.8.5\n",
            "\u001b[32m\u001b[1m   Installed\u001b[22m\u001b[39m Tables ────────────────────── v1.12.0\n",
            "\u001b[32m\u001b[1m   Installed\u001b[22m\u001b[39m LatinHypercubeSampling ────── v1.9.0\n",
            "\u001b[32m\u001b[1m   Installed\u001b[22m\u001b[39m MLJTuning ─────────────────── v0.8.8\n",
            "\u001b[32m\u001b[1m   Installed\u001b[22m\u001b[39m BitFlags ──────────────────── v0.1.9\n",
            "\u001b[32m\u001b[1m   Installed\u001b[22m\u001b[39m IteratorInterfaceExtensions ─ v1.0.0\n",
            "\u001b[32m\u001b[1m   Installed\u001b[22m\u001b[39m URIs ──────────────────────── v1.5.1\n",
            "\u001b[32m\u001b[1m   Installed\u001b[22m\u001b[39m LaTeXStrings ──────────────── v1.4.0\n",
            "\u001b[32m\u001b[1m   Installed\u001b[22m\u001b[39m FilePathsBase ─────────────── v0.9.22\n",
            "\u001b[32m\u001b[1m   Installed\u001b[22m\u001b[39m Baselet ───────────────────── v0.1.1\n",
            "\u001b[32m\u001b[1m   Installed\u001b[22m\u001b[39m MLJBalancing ──────────────── v0.1.5\n",
            "\u001b[32m\u001b[1m   Installed\u001b[22m\u001b[39m RecipesBase ───────────────── v1.3.4\n",
            "\u001b[32m\u001b[1m   Installed\u001b[22m\u001b[39m StringManipulation ────────── v0.4.0\n",
            "\u001b[32m\u001b[1m   Installed\u001b[22m\u001b[39m QuadGK ────────────────────── v2.11.1\n",
            "\u001b[32m\u001b[1m   Installed\u001b[22m\u001b[39m SplittablesBase ───────────── v0.1.15\n",
            "\u001b[32m\u001b[1m   Installed\u001b[22m\u001b[39m Distributions ─────────────── v0.25.113\n",
            "\u001b[32m\u001b[1m    Updating\u001b[22m\u001b[39m `~/.julia/environments/v1.10/Project.toml`\n",
            "  \u001b[90m[add582a8] \u001b[39m\u001b[92m+ MLJ v0.20.7\u001b[39m\n",
            "\u001b[32m\u001b[1m    Updating\u001b[22m\u001b[39m `~/.julia/environments/v1.10/Manifest.toml`\n",
            "  \u001b[90m[da404889] \u001b[39m\u001b[92m+ ARFFFiles v1.5.0\u001b[39m\n",
            "  \u001b[90m[7d9f7c33] \u001b[39m\u001b[92m+ Accessors v0.1.38\u001b[39m\n",
            "  \u001b[90m[66dad0bd] \u001b[39m\u001b[92m+ AliasTables v1.1.3\u001b[39m\n",
            "  \u001b[90m[dce04be8] \u001b[39m\u001b[92m+ ArgCheck v2.4.0\u001b[39m\n",
            "\u001b[33m⌅\u001b[39m \u001b[90m[a9b6321e] \u001b[39m\u001b[92m+ Atomix v0.1.0\u001b[39m\n",
            "  \u001b[90m[198e06fe] \u001b[39m\u001b[92m+ BangBang v0.4.3\u001b[39m\n",
            "  \u001b[90m[9718e550] \u001b[39m\u001b[92m+ Baselet v0.1.1\u001b[39m\n",
            "  \u001b[90m[d1d4a3ce] \u001b[39m\u001b[92m+ BitFlags v0.1.9\u001b[39m\n",
            "  \u001b[90m[fa961155] \u001b[39m\u001b[92m+ CEnum v0.5.0\u001b[39m\n",
            "  \u001b[90m[324d7699] \u001b[39m\u001b[92m+ CategoricalArrays v0.10.8\u001b[39m\n",
            "  \u001b[90m[af321ab8] \u001b[39m\u001b[92m+ CategoricalDistributions v0.1.15\u001b[39m\n",
            "  \u001b[90m[944b1d66] \u001b[39m\u001b[92m+ CodecZlib v0.7.6\u001b[39m\n",
            "\u001b[33m⌅\u001b[39m \u001b[90m[3da002f7] \u001b[39m\u001b[92m+ ColorTypes v0.11.5\u001b[39m\n",
            "  \u001b[90m[861a8166] \u001b[39m\u001b[92m+ Combinatorics v1.0.2\u001b[39m\n",
            "  \u001b[90m[a33af91c] \u001b[39m\u001b[92m+ CompositionsBase v0.1.2\u001b[39m\n",
            "  \u001b[90m[ed09eef8] \u001b[39m\u001b[92m+ ComputationalResources v0.3.2\u001b[39m\n",
            "  \u001b[90m[f0e56b4a] \u001b[39m\u001b[92m+ ConcurrentUtilities v2.4.2\u001b[39m\n",
            "  \u001b[90m[6add18c4] \u001b[39m\u001b[92m+ ContextVariablesX v0.1.3\u001b[39m\n",
            "  \u001b[90m[a8cc5b0e] \u001b[39m\u001b[92m+ Crayons v4.1.1\u001b[39m\n",
            "  \u001b[90m[e2d170a0] \u001b[39m\u001b[92m+ DataValueInterfaces v1.0.0\u001b[39m\n",
            "  \u001b[90m[244e2a9f] \u001b[39m\u001b[92m+ DefineSingletons v0.1.2\u001b[39m\n",
            "  \u001b[90m[8bb1440f] \u001b[39m\u001b[92m+ DelimitedFiles v1.9.1\u001b[39m\n",
            "  \u001b[90m[b4f34e82] \u001b[39m\u001b[92m+ Distances v0.10.12\u001b[39m\n",
            "  \u001b[90m[31c24e10] \u001b[39m\u001b[92m+ Distributions v0.25.113\u001b[39m\n",
            "  \u001b[90m[792122b4] \u001b[39m\u001b[92m+ EarlyStopping v0.3.0\u001b[39m\n",
            "  \u001b[90m[460bff9d] \u001b[39m\u001b[92m+ ExceptionUnwrapping v0.1.11\u001b[39m\n",
            "  \u001b[90m[cc61a311] \u001b[39m\u001b[92m+ FLoops v0.2.2\u001b[39m\n",
            "  \u001b[90m[b9860ae5] \u001b[39m\u001b[92m+ FLoopsBase v0.1.1\u001b[39m\n",
            "  \u001b[90m[33837fe5] \u001b[39m\u001b[92m+ FeatureSelection v0.2.2\u001b[39m\n",
            "  \u001b[90m[48062228] \u001b[39m\u001b[92m+ FilePathsBase v0.9.22\u001b[39m\n",
            "  \u001b[90m[53c48c17] \u001b[39m\u001b[92m+ FixedPointNumbers v0.8.5\u001b[39m\n",
            "  \u001b[90m[46192b85] \u001b[39m\u001b[92m+ GPUArraysCore v0.2.0\u001b[39m\n",
            "  \u001b[90m[cd3eb016] \u001b[39m\u001b[92m+ HTTP v1.10.12\u001b[39m\n",
            "  \u001b[90m[34004b35] \u001b[39m\u001b[92m+ HypergeometricFunctions v0.3.25\u001b[39m\n",
            "  \u001b[90m[22cec73e] \u001b[39m\u001b[92m+ InitialValues v0.3.1\u001b[39m\n",
            "  \u001b[90m[3587e190] \u001b[39m\u001b[92m+ InverseFunctions v0.1.17\u001b[39m\n",
            "  \u001b[90m[41ab1584] \u001b[39m\u001b[92m+ InvertedIndices v1.3.0\u001b[39m\n",
            "  \u001b[90m[b3c1a2ee] \u001b[39m\u001b[92m+ IterationControl v0.5.4\u001b[39m\n",
            "  \u001b[90m[82899510] \u001b[39m\u001b[92m+ IteratorInterfaceExtensions v1.0.0\u001b[39m\n",
            "  \u001b[90m[b14d175d] \u001b[39m\u001b[92m+ JuliaVariables v0.2.4\u001b[39m\n",
            "  \u001b[90m[63c18a36] \u001b[39m\u001b[92m+ KernelAbstractions v0.9.29\u001b[39m\n",
            "  \u001b[90m[929cbde3] \u001b[39m\u001b[92m+ LLVM v9.1.3\u001b[39m\n",
            "  \u001b[90m[b964fa9f] \u001b[39m\u001b[92m+ LaTeXStrings v1.4.0\u001b[39m\n",
            "  \u001b[90m[a5e1c1ea] \u001b[39m\u001b[92m+ LatinHypercubeSampling v1.9.0\u001b[39m\n",
            "  \u001b[90m[92ad9a40] \u001b[39m\u001b[92m+ LearnAPI v0.1.0\u001b[39m\n",
            "  \u001b[90m[e6f89c97] \u001b[39m\u001b[92m+ LoggingExtras v1.1.0\u001b[39m\n",
            "  \u001b[90m[64a0f543] \u001b[39m\u001b[92m+ MLFlowClient v0.5.1\u001b[39m\n",
            "  \u001b[90m[add582a8] \u001b[39m\u001b[92m+ MLJ v0.20.7\u001b[39m\n",
            "  \u001b[90m[45f359ea] \u001b[39m\u001b[92m+ MLJBalancing v0.1.5\u001b[39m\n",
            "  \u001b[90m[a7f614a8] \u001b[39m\u001b[92m+ MLJBase v1.7.0\u001b[39m\n",
            "  \u001b[90m[50ed68f4] \u001b[39m\u001b[92m+ MLJEnsembles v0.4.3\u001b[39m\n",
            "  \u001b[90m[7b7b8358] \u001b[39m\u001b[92m+ MLJFlow v0.5.0\u001b[39m\n",
            "  \u001b[90m[614be32b] \u001b[39m\u001b[92m+ MLJIteration v0.6.3\u001b[39m\n",
            "  \u001b[90m[d491faf4] \u001b[39m\u001b[92m+ MLJModels v0.17.4\u001b[39m\n",
            "  \u001b[90m[03970b2e] \u001b[39m\u001b[92m+ MLJTuning v0.8.8\u001b[39m\n",
            "  \u001b[90m[d8e11817] \u001b[39m\u001b[92m+ MLStyle v0.4.17\u001b[39m\n",
            "  \u001b[90m[f1d291b0] \u001b[39m\u001b[92m+ MLUtils v0.4.4\u001b[39m\n",
            "  \u001b[90m[128add7d] \u001b[39m\u001b[92m+ MicroCollections v0.2.0\u001b[39m\n",
            "  \u001b[90m[872c559c] \u001b[39m\u001b[92m+ NNlib v0.9.26\u001b[39m\n",
            "  \u001b[90m[71a1bf82] \u001b[39m\u001b[92m+ NameResolution v0.1.5\u001b[39m\n",
            "  \u001b[90m[8b6db2d4] \u001b[39m\u001b[92m+ OpenML v0.3.2\u001b[39m\n",
            "  \u001b[90m[4d8831e6] \u001b[39m\u001b[92m+ OpenSSL v1.4.3\u001b[39m\n",
            "  \u001b[90m[90014a1f] \u001b[39m\u001b[92m+ PDMats v0.11.31\u001b[39m\n",
            "  \u001b[90m[8162dcfd] \u001b[39m\u001b[92m+ PrettyPrint v0.2.0\u001b[39m\n",
            "  \u001b[90m[54e16d92] \u001b[39m\u001b[92m+ PrettyPrinting v0.4.2\u001b[39m\n",
            "  \u001b[90m[08abe8d2] \u001b[39m\u001b[92m+ PrettyTables v2.4.0\u001b[39m\n",
            "  \u001b[90m[43287f4e] \u001b[39m\u001b[92m+ PtrArrays v1.2.1\u001b[39m\n",
            "  \u001b[90m[1fd47b50] \u001b[39m\u001b[92m+ QuadGK v2.11.1\u001b[39m\n",
            "  \u001b[90m[3cdcf5f2] \u001b[39m\u001b[92m+ RecipesBase v1.3.4\u001b[39m\n",
            "  \u001b[90m[05181044] \u001b[39m\u001b[92m+ RelocatableFolders v1.0.1\u001b[39m\n",
            "  \u001b[90m[79098fc4] \u001b[39m\u001b[92m+ Rmath v0.8.0\u001b[39m\n",
            "  \u001b[90m[321657f4] \u001b[39m\u001b[92m+ ScientificTypes v3.0.2\u001b[39m\n",
            "  \u001b[90m[6c6a2e73] \u001b[39m\u001b[92m+ Scratch v1.2.1\u001b[39m\n",
            "  \u001b[90m[605ecd9f] \u001b[39m\u001b[92m+ ShowCases v0.1.0\u001b[39m\n",
            "  \u001b[90m[777ac1f9] \u001b[39m\u001b[92m+ SimpleBufferStream v1.2.0\u001b[39m\n",
            "  \u001b[90m[699a6c99] \u001b[39m\u001b[92m+ SimpleTraits v0.9.4\u001b[39m\n",
            "  \u001b[90m[171d559e] \u001b[39m\u001b[92m+ SplittablesBase v0.1.15\u001b[39m\n",
            "  \u001b[90m[860ef19b] \u001b[39m\u001b[92m+ StableRNGs v1.0.2\u001b[39m\n",
            "  \u001b[90m[90137ffa] \u001b[39m\u001b[92m+ StaticArrays v1.9.8\u001b[39m\n",
            "  \u001b[90m[a19d573c] \u001b[39m\u001b[92m+ StatisticalMeasures v0.1.7\u001b[39m\n",
            "  \u001b[90m[c062fc1d] \u001b[39m\u001b[92m+ StatisticalMeasuresBase v0.1.1\u001b[39m\n",
            "  \u001b[90m[4c63d2b9] \u001b[39m\u001b[92m+ StatsFuns v1.3.2\u001b[39m\n",
            "  \u001b[90m[892a3eda] \u001b[39m\u001b[92m+ StringManipulation v0.4.0\u001b[39m\n",
            "  \u001b[90m[3783bdb8] \u001b[39m\u001b[92m+ TableTraits v1.0.1\u001b[39m\n",
            "  \u001b[90m[bd369af6] \u001b[39m\u001b[92m+ Tables v1.12.0\u001b[39m\n",
            "  \u001b[90m[3bb67fe8] \u001b[39m\u001b[92m+ TranscodingStreams v0.11.3\u001b[39m\n",
            "  \u001b[90m[28d57a85] \u001b[39m\u001b[92m+ Transducers v0.4.84\u001b[39m\n",
            "  \u001b[90m[5c2747f8] \u001b[39m\u001b[92m+ URIs v1.5.1\u001b[39m\n",
            "  \u001b[90m[013be700] \u001b[39m\u001b[92m+ UnsafeAtomics v0.2.1\u001b[39m\n",
            "  \u001b[90m[d80eeb9a] \u001b[39m\u001b[92m+ UnsafeAtomicsLLVM v0.2.1\u001b[39m\n",
            "  \u001b[90m[dad2f222] \u001b[39m\u001b[92m+ LLVMExtra_jll v0.0.34+0\u001b[39m\n",
            "  \u001b[90m[458c3c95] \u001b[39m\u001b[92m+ OpenSSL_jll v3.0.15+1\u001b[39m\n",
            "  \u001b[90m[f50d1b31] \u001b[39m\u001b[92m+ Rmath_jll v0.5.1+0\u001b[39m\n",
            "  \u001b[90m[4af54fe1] \u001b[39m\u001b[92m+ LazyArtifacts\u001b[39m\n",
            "  \u001b[90m[4607b0f0] \u001b[39m\u001b[92m+ SuiteSparse\u001b[39m\n",
            "\u001b[36m\u001b[1m        Info\u001b[22m\u001b[39m Packages marked with \u001b[33m⌅\u001b[39m have new versions available but compatibility constraints restrict them from upgrading. To see why use `status --outdated -m`\n",
            "\u001b[32m\u001b[1mPrecompiling\u001b[22m\u001b[39m project...\n",
            "\u001b[32m  ✓ \u001b[39m\u001b[90mLaTeXStrings\u001b[39m\n",
            "\u001b[32m  ✓ \u001b[39m\u001b[90mIteratorInterfaceExtensions\u001b[39m\n",
            "\u001b[32m  ✓ \u001b[39m\u001b[90mCombinatorics\u001b[39m\n",
            "\u001b[32m  ✓ \u001b[39m\u001b[90mInitialValues\u001b[39m\n",
            "\u001b[32m  ✓ \u001b[39m\u001b[90mCEnum\u001b[39m\n",
            "\u001b[32m  ✓ \u001b[39m\u001b[90mUnsafeAtomics\u001b[39m\n",
            "\u001b[32m  ✓ \u001b[39m\u001b[90mConcurrentUtilities\u001b[39m\n",
            "\u001b[32m  ✓ \u001b[39m\u001b[90mInverseFunctions\u001b[39m\n",
            "\u001b[32m  ✓ \u001b[39m\u001b[90mPrettyPrint\u001b[39m\n",
            "\u001b[32m  ✓ \u001b[39m\u001b[90mArgCheck\u001b[39m\n",
            "\u001b[32m  ✓ \u001b[39m\u001b[90mDataValueInterfaces\u001b[39m\n",
            "\u001b[32m  ✓ \u001b[39m\u001b[90mShowCases\u001b[39m\n",
            "\u001b[32m  ✓ \u001b[39m\u001b[90mStableRNGs\u001b[39m\n",
            "\u001b[32m  ✓ \u001b[39m\u001b[90mPrettyPrinting\u001b[39m\n",
            "\u001b[32m  ✓ \u001b[39m\u001b[90mURIs\u001b[39m\n",
            "\u001b[32m  ✓ \u001b[39m\u001b[90mSimpleBufferStream\u001b[39m\n",
            "\u001b[32m  ✓ \u001b[39m\u001b[90mCompositionsBase\u001b[39m\n",
            "\u001b[32m  ✓ \u001b[39m\u001b[90mExceptionUnwrapping\u001b[39m\n",
            "\u001b[32m  ✓ \u001b[39m\u001b[90mPtrArrays\u001b[39m\n",
            "\u001b[32m  ✓ \u001b[39m\u001b[90mDefineSingletons\u001b[39m\n",
            "\u001b[32m  ✓ \u001b[39m\u001b[90mTranscodingStreams\u001b[39m\n",
            "\u001b[32m  ✓ \u001b[39m\u001b[90mContextVariablesX\u001b[39m\n",
            "\u001b[32m  ✓ \u001b[39m\u001b[90mInvertedIndices\u001b[39m\n",
            "\u001b[32m  ✓ \u001b[39m\u001b[90mDelimitedFiles\u001b[39m\n",
            "\u001b[32m  ✓ \u001b[39m\u001b[90mComputationalResources\u001b[39m\n",
            "\u001b[32m  ✓ \u001b[39m\u001b[90mBitFlags\u001b[39m\n",
            "\u001b[32m  ✓ \u001b[39m\u001b[90mCrayons\u001b[39m\n",
            "\u001b[32m  ✓ \u001b[39m\u001b[90mScratch\u001b[39m\n",
            "\u001b[32m  ✓ \u001b[39m\u001b[90mLoggingExtras\u001b[39m\n",
            "\u001b[32m  ✓ \u001b[39m\u001b[90mSimpleTraits\u001b[39m\n",
            "\u001b[32m  ✓ \u001b[39m\u001b[90mBaselet\u001b[39m\n",
            "\u001b[32m  ✓ \u001b[39m\u001b[90mFilePathsBase\u001b[39m\n",
            "\u001b[32m  ✓ \u001b[39m\u001b[90mSuiteSparse\u001b[39m\n",
            "\u001b[32m  ✓ \u001b[39m\u001b[90mRecipesBase\u001b[39m\n",
            "\u001b[32m  ✓ \u001b[39m\u001b[90mStringManipulation\u001b[39m\n",
            "\u001b[32m  ✓ \u001b[39m\u001b[90mOpenSSL_jll\u001b[39m\n",
            "\u001b[32m  ✓ \u001b[39m\u001b[90mRmath_jll\u001b[39m\n",
            "\u001b[32m  ✓ \u001b[39m\u001b[90mLLVMExtra_jll\u001b[39m\n",
            "\u001b[32m  ✓ \u001b[39m\u001b[90mQuadGK\u001b[39m\n",
            "\u001b[32m  ✓ \u001b[39m\u001b[90mFixedPointNumbers\u001b[39m\n",
            "\u001b[32m  ✓ \u001b[39m\u001b[90mCategoricalArrays\u001b[39m\n",
            "\u001b[32m  ✓ \u001b[39m\u001b[90mEarlyStopping\u001b[39m\n",
            "\u001b[32m  ✓ \u001b[39m\u001b[90mStaticArrays\u001b[39m\n",
            "\u001b[32m  ✓ \u001b[39m\u001b[90mDistances\u001b[39m\n",
            "\u001b[32m  ✓ \u001b[39m\u001b[90mTableTraits\u001b[39m\n",
            "\u001b[32m  ✓ \u001b[39m\u001b[90mAtomix\u001b[39m\n",
            "\u001b[32m  ✓ \u001b[39m\u001b[90mLearnAPI\u001b[39m\n",
            "\u001b[32m  ✓ \u001b[39m\u001b[90mInverseFunctions → InverseFunctionsTestExt\u001b[39m\n",
            "\u001b[32m  ✓ \u001b[39m\u001b[90mLogExpFunctions → LogExpFunctionsInverseFunctionsExt\u001b[39m\n",
            "\u001b[32m  ✓ \u001b[39m\u001b[90mCompositionsBase → CompositionsBaseInverseFunctionsExt\u001b[39m\n",
            "\u001b[32m  ✓ \u001b[39m\u001b[90mNameResolution\u001b[39m\n",
            "\u001b[32m  ✓ \u001b[39m\u001b[90mAliasTables\u001b[39m\n",
            "\u001b[32m  ✓ \u001b[39m\u001b[90mCodecZlib\u001b[39m\n",
            "\u001b[32m  ✓ \u001b[39m\u001b[90mFLoopsBase\u001b[39m\n",
            "\u001b[32m  ✓ \u001b[39m\u001b[90mRelocatableFolders\u001b[39m\n",
            "\u001b[32m  ✓ \u001b[39m\u001b[90mFilePathsBase → FilePathsBaseMmapExt\u001b[39m\n",
            "\u001b[32m  ✓ \u001b[39m\u001b[90mPDMats\u001b[39m\n",
            "\u001b[32m  ✓ \u001b[39m\u001b[90mRmath\u001b[39m\n",
            "\u001b[32m  ✓ \u001b[39m\u001b[90mOpenSSL\u001b[39m\n",
            "\u001b[32m  ✓ \u001b[39m\u001b[90mColorTypes\u001b[39m\n",
            "\u001b[32m  ✓ \u001b[39m\u001b[90mCategoricalArrays → CategoricalArraysRecipesBaseExt\u001b[39m\n",
            "\u001b[32m  ✓ \u001b[39m\u001b[90mLossFunctions → LossFunctionsCategoricalArraysExt\u001b[39m\n",
            "\u001b[32m  ✓ \u001b[39m\u001b[90mIterationControl\u001b[39m\n",
            "\u001b[32m  ✓ \u001b[39m\u001b[90mMLStyle\u001b[39m\n",
            "\u001b[32m  ✓ \u001b[39m\u001b[90mLLVM\u001b[39m\n",
            "\u001b[32m  ✓ \u001b[39m\u001b[90mStaticArrays → StaticArraysStatisticsExt\u001b[39m\n",
            "\u001b[32m  ✓ \u001b[39m\u001b[90mConstructionBase → ConstructionBaseStaticArraysExt\u001b[39m\n",
            "\u001b[32m  ✓ \u001b[39m\u001b[90mAdapt → AdaptStaticArraysExt\u001b[39m\n",
            "\u001b[32m  ✓ \u001b[39m\u001b[90mDistances → DistancesSparseArraysExt\u001b[39m\n",
            "\u001b[32m  ✓ \u001b[39m\u001b[90mInverseFunctions → InverseFunctionsDatesExt\u001b[39m\n",
            "\u001b[32m  ✓ \u001b[39m\u001b[90mTables\u001b[39m\n",
            "\u001b[32m  ✓ \u001b[39m\u001b[90mLatinHypercubeSampling\u001b[39m\n",
            "\u001b[32m  ✓ \u001b[39m\u001b[90mHypergeometricFunctions\u001b[39m\n",
            "\u001b[32m  ✓ \u001b[39m\u001b[90mForwardDiff → ForwardDiffStaticArraysExt\u001b[39m\n",
            "\u001b[32m  ✓ \u001b[39m\u001b[90mFillArrays → FillArraysPDMatsExt\u001b[39m\n",
            "\u001b[32m  ✓ \u001b[39m\u001b[90mFilePathsBase → FilePathsBaseTestExt\u001b[39m\n",
            "\u001b[32m  ✓ \u001b[39m\u001b[90mCategoricalArrays → CategoricalArraysJSONExt\u001b[39m\n",
            "\u001b[32m  ✓ \u001b[39m\u001b[90mUnsafeAtomicsLLVM\u001b[39m\n",
            "\u001b[32m  ✓ \u001b[39m\u001b[90mJuliaVariables\u001b[39m\n",
            "\u001b[32m  ✓ \u001b[39m\u001b[90mStaticArrays → StaticArraysChainRulesCoreExt\u001b[39m\n",
            "\u001b[32m  ✓ \u001b[39m\u001b[90mGPUArraysCore\u001b[39m\n",
            "\u001b[32m  ✓ \u001b[39m\u001b[90mSplittablesBase\u001b[39m\n",
            "\u001b[32m  ✓ \u001b[39m\u001b[90mDistances → DistancesChainRulesCoreExt\u001b[39m\n",
            "\u001b[32m  ✓ \u001b[39m\u001b[90mFeatureSelection\u001b[39m\n",
            "\u001b[32m  ✓ \u001b[39m\u001b[90mAccessors\u001b[39m\n",
            "\u001b[32m  ✓ \u001b[39m\u001b[90mStatsFuns\u001b[39m\n",
            "\u001b[32m  ✓ \u001b[39m\u001b[90mARFFFiles\u001b[39m\n",
            "\u001b[32m  ✓ \u001b[39m\u001b[90mKernelAbstractions\u001b[39m\n",
            "\u001b[32m  ✓ \u001b[39m\u001b[90mArrayInterface → ArrayInterfaceGPUArraysCoreExt\u001b[39m\n",
            "\u001b[32m  ✓ \u001b[39m\u001b[90mAccessors → AccessorsDatesExt\u001b[39m\n",
            "\u001b[32m  ✓ \u001b[39m\u001b[90mStatsFuns → StatsFunsInverseFunctionsExt\u001b[39m\n",
            "\u001b[32m  ✓ \u001b[39m\u001b[90mKernelAbstractions → SparseArraysExt\u001b[39m\n",
            "\u001b[32m  ✓ \u001b[39m\u001b[90mFiniteDiff → FiniteDiffStaticArraysExt\u001b[39m\n",
            "\u001b[32m  ✓ \u001b[39m\u001b[90mDifferentiationInterface → DifferentiationInterfaceStaticArraysExt\u001b[39m\n",
            "\u001b[32m  ✓ \u001b[39m\u001b[90mAccessors → AccessorsStaticArraysExt\u001b[39m\n",
            "\u001b[32m  ✓ \u001b[39m\u001b[90mStatsFuns → StatsFunsChainRulesCoreExt\u001b[39m\n",
            "\u001b[32m  ✓ \u001b[39m\u001b[90mKernelAbstractions → LinearAlgebraExt\u001b[39m\n",
            "\u001b[32m  ✓ \u001b[39m\u001b[90mAccessors → AccessorsTestExt\u001b[39m\n",
            "\u001b[32m  ✓ \u001b[39m\u001b[90mHTTP\u001b[39m\n",
            "\u001b[32m  ✓ \u001b[39m\u001b[90mDistributions\u001b[39m\n",
            "\u001b[32m  ✓ \u001b[39m\u001b[90mBangBang\u001b[39m\n",
            "\u001b[32m  ✓ \u001b[39m\u001b[90mOpenML\u001b[39m\n",
            "\u001b[32m  ✓ \u001b[39m\u001b[90mNNlib\u001b[39m\n",
            "\u001b[32m  ✓ \u001b[39m\u001b[90mPrettyTables\u001b[39m\n",
            "\u001b[32m  ✓ \u001b[39m\u001b[90mMLFlowClient\u001b[39m\n",
            "\u001b[32m  ✓ \u001b[39m\u001b[90mBangBang → BangBangChainRulesCoreExt\u001b[39m\n",
            "\u001b[32m  ✓ \u001b[39m\u001b[90mDistributions → DistributionsTestExt\u001b[39m\n",
            "\u001b[32m  ✓ \u001b[39m\u001b[90mBangBang → BangBangStaticArraysExt\u001b[39m\n",
            "\u001b[32m  ✓ \u001b[39m\u001b[90mNNlib → NNlibForwardDiffExt\u001b[39m\n",
            "\u001b[32m  ✓ \u001b[39m\u001b[90mBangBang → BangBangTablesExt\u001b[39m\n",
            "\u001b[32m  ✓ \u001b[39m\u001b[90mDistributions → DistributionsChainRulesCoreExt\u001b[39m\n",
            "\u001b[32m  ✓ \u001b[39m\u001b[90mMicroCollections\u001b[39m\n",
            "\u001b[32m  ✓ \u001b[39m\u001b[90mScientificTypes\u001b[39m\n",
            "\u001b[32m  ✓ \u001b[39m\u001b[90mTransducers\u001b[39m\n",
            "\u001b[32m  ✓ \u001b[39m\u001b[90mTransducers → TransducersAdaptExt\u001b[39m\n",
            "\u001b[32m  ✓ \u001b[39m\u001b[90mCategoricalDistributions\u001b[39m\n",
            "\u001b[32m  ✓ \u001b[39m\u001b[90mDynamicQuantities → DynamicQuantitiesScientificTypesExt\u001b[39m\n",
            "\u001b[32m  ✓ \u001b[39m\u001b[90mFLoops\u001b[39m\n",
            "\u001b[32m  ✓ \u001b[39m\u001b[90mMLJModels\u001b[39m\n",
            "\u001b[32m  ✓ \u001b[39m\u001b[90mMLUtils\u001b[39m\n",
            "\u001b[32m  ✓ \u001b[39m\u001b[90mStatisticalMeasuresBase\u001b[39m\n",
            "\u001b[32m  ✓ \u001b[39m\u001b[90mMLJEnsembles\u001b[39m\n",
            "\u001b[32m  ✓ \u001b[39m\u001b[90mMLJBase\u001b[39m\n",
            "\u001b[32m  ✓ \u001b[39m\u001b[90mStatisticalMeasures\u001b[39m\n",
            "\u001b[32m  ✓ \u001b[39m\u001b[90mStatisticalMeasures → ScientificTypesExt\u001b[39m\n",
            "\u001b[32m  ✓ \u001b[39m\u001b[90mMLJBase → DefaultMeasuresExt\u001b[39m\n",
            "\u001b[32m  ✓ \u001b[39m\u001b[90mStatisticalMeasures → LossFunctionsExt\u001b[39m\n",
            "\u001b[32m  ✓ \u001b[39m\u001b[90mMLJFlow\u001b[39m\n",
            "\u001b[32m  ✓ \u001b[39m\u001b[90mMLJIteration\u001b[39m\n",
            "\u001b[32m  ✓ \u001b[39m\u001b[90mMLJBalancing\u001b[39m\n",
            "\u001b[32m  ✓ \u001b[39m\u001b[90mMLJTuning\u001b[39m\n",
            "\u001b[32m  ✓ \u001b[39mMLJ\n",
            "  132 dependencies successfully precompiled in 294 seconds. 94 already precompiled.\n"
          ]
        }
      ]
    },
    {
      "cell_type": "code",
      "source": [
        "import SymbolicRegression: SRRegressor\n",
        "import MLJ: machine, fit!, predict, report\n",
        "\n",
        "# Dataset with two named features:\n",
        "X = (a = rand(500), b = rand(500))\n",
        "\n",
        "# and one target:\n",
        "y = @. 2 * cos(X.a * 23.5) - X.b ^ 2\n",
        "\n",
        "# with some noise:\n",
        "y = y .+ randn(500) .* 1e-3\n",
        "\n",
        "model = SRRegressor(\n",
        "    niterations=50,\n",
        "    binary_operators=[+, -, *],\n",
        "    unary_operators=[cos],\n",
        ")"
      ],
      "metadata": {
        "id": "Gk3_jSSOiL7o",
        "colab": {
          "base_uri": "https://localhost:8080/"
        },
        "outputId": "00660296-f356-42a1-d024-7228d42ee5e3"
      },
      "execution_count": 10,
      "outputs": [
        {
          "output_type": "execute_result",
          "data": {
            "text/plain": [
              "SRRegressor(\n",
              "  defaults = nothing, \n",
              "  binary_operators = Function[+, -, *], \n",
              "  unary_operators = [cos], \n",
              "  maxsize = nothing, \n",
              "  maxdepth = nothing, \n",
              "  expression_type = DynamicExpressions.ExpressionModule.Expression, \n",
              "  expression_options = NamedTuple(), \n",
              "  node_type = DynamicExpressions.NodeModule.Node, \n",
              "  populations = nothing, \n",
              "  population_size = nothing, \n",
              "  ncycles_per_iteration = nothing, \n",
              "  elementwise_loss = nothing, \n",
              "  loss_function = nothing, \n",
              "  dimensional_constraint_penalty = nothing, \n",
              "  parsimony = nothing, \n",
              "  constraints = nothing, \n",
              "  nested_constraints = nothing, \n",
              "  complexity_of_operators = nothing, \n",
              "  complexity_of_constants = nothing, \n",
              "  complexity_of_variables = nothing, \n",
              "  warmup_maxsize_by = nothing, \n",
              "  adaptive_parsimony_scaling = nothing, \n",
              "  mutation_weights = nothing, \n",
              "  crossover_probability = nothing, \n",
              "  annealing = nothing, \n",
              "  alpha = nothing, \n",
              "  probability_negate_constant = nothing, \n",
              "  tournament_selection_n = nothing, \n",
              "  tournament_selection_p = nothing, \n",
              "  early_stop_condition = nothing, \n",
              "  batching = nothing, \n",
              "  batch_size = nothing, \n",
              "  dimensionless_constants_only = false, \n",
              "  complexity_mapping = nothing, \n",
              "  use_frequency = true, \n",
              "  use_frequency_in_tournament = true, \n",
              "  should_simplify = nothing, \n",
              "  perturbation_factor = nothing, \n",
              "  skip_mutation_failures = true, \n",
              "  optimizer_algorithm = Optim.BFGS{LineSearches.InitialStatic{Float64}, LineSearches.BackTracking{Float64, Int64}, Nothing, Nothing, Optim.Flat}(LineSearches.InitialStatic{Float64}\n",
              "  alpha: Float64 1.0\n",
              "  scaled: Bool false\n",
              ", LineSearches.BackTracking{Float64, Int64}\n",
              "  c_1: Float64 0.0001\n",
              "  ρ_hi: Float64 0.5\n",
              "  ρ_lo: Float64 0.1\n",
              "  iterations: Int64 1000\n",
              "  order: Int64 3\n",
              "  maxstep: Float64 Inf\n",
              "  cache: Nothing nothing\n",
              ", nothing, nothing, Optim.Flat()), \n",
              "  optimizer_nrestarts = 2, \n",
              "  optimizer_probability = 0.14, \n",
              "  optimizer_iterations = nothing, \n",
              "  optimizer_f_calls_limit = nothing, \n",
              "  optimizer_options = nothing, \n",
              "  should_optimize_constants = true, \n",
              "  migration = true, \n",
              "  hof_migration = true, \n",
              "  fraction_replaced = nothing, \n",
              "  fraction_replaced_hof = nothing, \n",
              "  topn = nothing, \n",
              "  timeout_in_seconds = nothing, \n",
              "  max_evals = nothing, \n",
              "  turbo = false, \n",
              "  bumper = false, \n",
              "  autodiff_backend = nothing, \n",
              "  deterministic = false, \n",
              "  seed = nothing, \n",
              "  verbosity = nothing, \n",
              "  print_precision = 5, \n",
              "  progress = nothing, \n",
              "  output_directory = nothing, \n",
              "  save_to_file = true, \n",
              "  bin_constraints = nothing, \n",
              "  una_constraints = nothing, \n",
              "  terminal_width = nothing, \n",
              "  use_recorder = false, \n",
              "  recorder_file = \"pysr_recorder.json\", \n",
              "  define_helper_functions = true, \n",
              "  output_file = nothing, \n",
              "  fast_cycle = false, \n",
              "  npopulations = nothing, \n",
              "  npop = nothing, \n",
              "  niterations = 50, \n",
              "  parallelism = :multithreading, \n",
              "  numprocs = nothing, \n",
              "  procs = nothing, \n",
              "  addprocs_function = nothing, \n",
              "  heap_size_hint_in_bytes = nothing, \n",
              "  logger = nothing, \n",
              "  runtests = true, \n",
              "  run_id = nothing, \n",
              "  loss_type = Nothing, \n",
              "  selection_method = SymbolicRegression.MLJInterfaceModule.choose_best, \n",
              "  dimensions_type = DynamicQuantities.SymbolicDimensions{DynamicQuantities.FixedRational{Int32, 25200}})"
            ]
          },
          "metadata": {},
          "execution_count": 10
        }
      ]
    },
    {
      "cell_type": "code",
      "source": [
        "mach = machine(model, X, y)\n",
        "\n",
        "fit!(mach)"
      ],
      "metadata": {
        "id": "ayYon23RiQGJ",
        "colab": {
          "base_uri": "https://localhost:8080/"
        },
        "outputId": "ac8f5cca-2112-4c89-e4e0-76c2a00eae70"
      },
      "execution_count": 11,
      "outputs": [
        {
          "output_type": "stream",
          "name": "stderr",
          "text": [
            "\u001b[33m\u001b[1m┌ \u001b[22m\u001b[39m\u001b[33m\u001b[1mWarning: \u001b[22m\u001b[39mProgressMeter by default refresh meters with additional information in IJulia via `IJulia.clear_output`, which clears all outputs in the cell. \n",
            "\u001b[33m\u001b[1m│ \u001b[22m\u001b[39m - To prevent this behaviour, do `ProgressMeter.ijulia_behavior(:append)`. \n",
            "\u001b[33m\u001b[1m│ \u001b[22m\u001b[39m - To disable this warning message, do `ProgressMeter.ijulia_behavior(:clear)`.\n",
            "\u001b[33m\u001b[1m└ \u001b[22m\u001b[39m\u001b[90m@ ProgressMeter ~/.julia/packages/ProgressMeter/kVZZH/src/ProgressMeter.jl:594\u001b[39m\n",
            "\r\u001b[32mEvolving for 50 iterations... 100%|██████████████████████████████████████████| Time: 0:00:53\u001b[39m\n",
            "\u001b[36m\u001b[1m[ \u001b[22m\u001b[39m\u001b[36m\u001b[1mInfo: \u001b[22m\u001b[39mFinal population:\n"
          ]
        },
        {
          "output_type": "stream",
          "name": "stdout",
          "text": [
            "───────────────────────────────────────────────────────────────────────────────────────────────────\n",
            "Complexity  Loss       Score      Equation\n",
            "1           1.881e+00  3.604e+01  y = -0.33638\n",
            "3           1.848e+00  8.821e-03  y = a * -0.67349\n",
            "4           6.255e-01  1.083e+00  y = cos(a * 23.539)\n",
            "6           1.920e-01  5.904e-01  y = cos(a * 23.537) * 1.9624\n",
            "8           3.309e-02  8.791e-01  y = (cos(a * 23.492) * 1.9991) - b\n",
            "10          1.112e-06  5.151e+00  y = (cos(a * 23.5) * 2) - (b * b)\n",
            "12          1.105e-06  3.229e-03  y = (cos(a * 23.5) * 2) - ((b * 0.99981) * b)\n",
            "14          1.097e-06  3.567e-03  y = (((a * -0.00063216) + 2.0003) * cos(a * 23.5)) - (b * ...\n",
            "                                      b)\n",
            "16          1.093e-06  1.902e-03  y = (cos(a * 23.5) * ((a * -0.00058765) + 2.0003)) - (b * ...\n",
            "                                      (b + -0.0001142))\n",
            "17          1.079e-06  1.253e-02  y = (cos(a * 23.5) * 2.0001) - ((cos(a * -27.729) * -0.000...\n",
            "                                      25931) + (b * b))\n",
            "19          1.075e-06  2.101e-03  y = (cos(a * 23.5) * 2.0001) - ((cos(a * -27.729) * -0.000...\n",
            "                                      25931) + (b * (b - 6.6862e-05)))\n",
            "21          1.073e-06  9.053e-04  y = (5.3004e-05 + (cos(a * 23.5) * 2)) - (b * ((cos((a * -...\n",
            "                                      27.729) + 0.42705) * -0.00047122) + b))\n",
            "22          1.068e-06  3.869e-03  y = (cos(a * 23.5) * 2) - (b * ((cos(cos(a * 60.8) - (a * ...\n",
            "                                      -27.729)) * -0.00053417) + b))\n",
            "24          1.068e-06  2.595e-04  y = (cos(a * 23.5) * 2) - (((cos(cos(a * (b + 59.976)) - (...\n",
            "                                      a * -27.729)) * -0.0004464) + b) * b)\n",
            "26          1.067e-06  5.929e-04  y = (cos(a * 23.5) * 2) - (b * ((cos(cos(a * ((60.8 + b) -...\n",
            "                                       a)) - (a * -27.729)) * -0.0004464) + b))\n",
            "27          1.065e-06  1.514e-03  y = (cos(23.5 * a) * 2) - ((b * b) + ((b * (cos(-1.2674) +...\n",
            "                                       cos(cos(a * -60.518) - (-27.729 * a)))) * -0.0004464))\n",
            "28          1.065e-06  3.404e-04  y = (cos(a * 23.5) * 2) - (b * ((cos(cos((a * (b - a)) + (...\n",
            "                                      a * 60.8)) - (a * -27.729)) * -0.00053417) + b))\n",
            "───────────────────────────────────────────────────────────────────────────────────────────────────\n",
            "  - outputs/20241126_084019_RvqVBc/hall_of_fame.csv\n"
          ]
        },
        {
          "output_type": "stream",
          "name": "stderr",
          "text": [
            "\u001b[36m\u001b[1m[ \u001b[22m\u001b[39m\u001b[36m\u001b[1mInfo: \u001b[22m\u001b[39mResults saved to:\n"
          ]
        },
        {
          "output_type": "execute_result",
          "data": {
            "text/plain": [
              "trained Machine; caches model-specific representations of data\n",
              "  model: SRRegressor(defaults = nothing, …)\n",
              "  args: \n",
              "    1:\tSource @237 ⏎ ScientificTypesBase.Table{AbstractVector{ScientificTypesBase.Continuous}}\n",
              "    2:\tSource @943 ⏎ AbstractVector{ScientificTypesBase.Continuous}\n"
            ]
          },
          "metadata": {},
          "execution_count": 11
        }
      ]
    },
    {
      "cell_type": "code",
      "source": [
        "report(mach)"
      ],
      "metadata": {
        "id": "XAYQCogSiUa9",
        "colab": {
          "base_uri": "https://localhost:8080/"
        },
        "outputId": "f2ed42b4-77f3-45f0-a806-6388de55638e"
      },
      "execution_count": 12,
      "outputs": [
        {
          "output_type": "execute_result",
          "data": {
            "text/plain": [
              "(best_idx = 6,\n",
              " equations = DynamicExpressions.ExpressionModule.Expression{Float64, DynamicExpressions.NodeModule.Node{Float64}, @NamedTuple{operators::DynamicExpressions.OperatorEnumModule.OperatorEnum{Tuple{typeof(+), typeof(-), typeof(*)}, Tuple{typeof(cos)}}, variable_names::Vector{String}}}[-0.3363823676071395, a * -0.6734919897202386, cos(a * 23.53929943316426), cos(a * 23.537023552572748) * 1.9624233342565114, (cos(a * 23.491550737225463) * 1.999081505616723) - b, (cos(a * 23.500053330149107) * 2.000006588379132) - (b * b), (cos(a * 23.50006060188921) * 1.9999992451614406) - ((b * 0.9998069580246424) * b), (((a * -0.0006321619708218952) + 2.000319691169679) * cos(a * 23.500048419093645)) - (b * b), (cos(a * 23.500054040015467) * ((a * -0.00058764521719565) + 2.00029341988214)) - (b * (b + -0.00011419555097368143)), (cos(a * 23.500028101738828) * 2.0000516388570566) - ((cos(a * -27.72889935855771) * -0.00025930912010819286) + (b * b)), (cos(a * 23.500028101738828) * 2.0000516388570566) - ((cos(a * -27.72889935855771) * -0.00025930912010819286) + (b * (b - 6.686181505047691e-5))), (5.3003899898286226e-5 + (cos(a * 23.49999355035648) * 2.0000003558682793)) - (b * ((cos((a * -27.728899449236156) + 0.4270468786381881) * -0.00047122319080038916) + b)), (cos(a * 23.500022107549157) * 2.0000074000867625) - (b * ((cos(cos(a * 60.80031920935047) - (a * -27.728899328099665)) * -0.0005341742976744137) + b)), (cos(a * 23.500039626762664) * 2.0000430151685795) - (((cos(cos(a * (b + 59.97618853308291)) - (a * -27.72889936246636)) * -0.0004464019492413855) + b) * b), (cos(a * 23.500039626762664) * 2.0000430151685795) - (b * ((cos(cos(a * ((60.80031922689227 + b) - a)) - (a * -27.72889936246636)) * -0.0004464019492413855) + b)), (cos(23.500039626762664 * a) * 2.0000430151685795) - ((b * b) + ((b * (cos(-1.2673800538336344) + cos(cos(a * -60.51841133775855) - (-27.72889936246636 * a)))) * -0.0004464019492413855)), (cos(a * 23.500022107549157) * 2.0000074000867625) - (b * ((cos(cos((a * (b - a)) + (a * 60.80031920935047)) - (a * -27.728899328099665)) * -0.0005341742976744137) + b))],\n",
              " equation_strings = [\"-0.3363823676071395\", \"a * -0.6734919897202386\", \"cos(a * 23.53929943316426)\", \"cos(a * 23.537023552572748) * 1.9624233342565114\", \"(cos(a * 23.491550737225463) * 1.999081505616723) - b\", \"(cos(a * 23.500053330149107) * 2.000006588379132) - (b * b)\", \"(cos(a * 23.50006060188921) * 1.9999992451614406) - ((b * 0.9998069580246424) * b)\", \"(((a * -0.0006321619708218952) + 2.000319691169679) * cos(a * 23.500048419093645)) - (b * b)\", \"(cos(a * 23.500054040015467) * ((a * -0.00058764521719565) + 2.00029341988214)) - (b * (b + -0.00011419555097368143))\", \"(cos(a * 23.500028101738828) * 2.0000516388570566) - ((cos(a * -27.72889935855771) * -0.00025930912010819286) + (b * b))\", \"(cos(a * 23.500028101738828) * 2.0000516388570566) - ((cos(a * -27.72889935855771) * -0.00025930912010819286) + (b * (b - 6.686181505047691e-5)))\", \"(5.3003899898286226e-5 + (cos(a * 23.49999355035648) * 2.0000003558682793)) - (b * ((cos((a * -27.728899449236156) + 0.4270468786381881) * -0.00047122319080038916) + b))\", \"(cos(a * 23.500022107549157) * 2.0000074000867625) - (b * ((cos(cos(a * 60.80031920935047) - (a * -27.728899328099665)) * -0.0005341742976744137) + b))\", \"(cos(a * 23.500039626762664) * 2.0000430151685795) - (((cos(cos(a * (b + 59.97618853308291)) - (a * -27.72889936246636)) * -0.0004464019492413855) + b) * b)\", \"(cos(a * 23.500039626762664) * 2.0000430151685795) - (b * ((cos(cos(a * ((60.80031922689227 + b) - a)) - (a * -27.72889936246636)) * -0.0004464019492413855) + b))\", \"(cos(23.500039626762664 * a) * 2.0000430151685795) - ((b * b) + ((b * (cos(-1.2673800538336344) + cos(cos(a * -60.51841133775855) - (-27.72889936246636 * a)))) * -0.0004464019492413855))\", \"(cos(a * 23.500022107549157) * 2.0000074000867625) - (b * ((cos(cos((a * (b - a)) + (a * 60.80031920935047)) - (a * -27.728899328099665)) * -0.0005341742976744137) + b))\"],\n",
              " losses = [1.8809672211489092, 1.8480751518780567, 0.625455516787039, 0.19202045911553453, 0.033094237337126985, 1.1118736754733574e-6, 1.1047165971289616e-6, 1.096862788310894e-6, 1.0926979873953668e-6, 1.0790871428655789e-6, 1.0745618178065957e-6, 1.0726180611892137e-6, 1.0684766362763468e-6, 1.0679223397890057e-6, 1.0666568504084487e-6, 1.065042719252394e-6, 1.0646802887010242e-6],\n",
              " complexities = [1, 3, 4, 6, 8, 10, 12, 14, 16, 17, 19, 21, 22, 24, 26, 27, 28],\n",
              " scores = [36.04365338911715, 0.008820742441978552, 1.0834197068450988, 0.590439143443022, 0.8791213777972117, 5.150533929721571, 0.0032288796469392106, 0.0035673672210606634, 0.0019021193586247862, 0.012534410095437796, 0.002101239246367187, 0.0009052605081499197, 0.003868516495430623, 0.00025945364418749646, 0.0005928519937935255, 0.0015144080221424568, 0.0003403546409695793],)"
            ]
          },
          "metadata": {},
          "execution_count": 12
        }
      ]
    },
    {
      "cell_type": "code",
      "source": [
        "predict(mach, X)"
      ],
      "metadata": {
        "id": "_Jdf3a0WiXNV",
        "colab": {
          "base_uri": "https://localhost:8080/"
        },
        "outputId": "2d0675ba-224b-4ece-a941-9de974cdb7a8"
      },
      "execution_count": 13,
      "outputs": [
        {
          "output_type": "execute_result",
          "data": {
            "text/plain": [
              "500-element Vector{Float64}:\n",
              "  1.4529191130144081\n",
              "  0.37351879992802367\n",
              " -1.0397001428255115\n",
              " -1.9710944003066304\n",
              " -1.9850746482051314\n",
              "  0.1400200941383002\n",
              "  0.6379148199719589\n",
              " -2.1941247426624964\n",
              "  0.6966018959886291\n",
              "  0.07996730272821265\n",
              " -0.6065558270503534\n",
              " -0.5501203714807741\n",
              "  1.5690209673116229\n",
              "  ⋮\n",
              " -2.448166399741377\n",
              "  0.9333720527746993\n",
              " -0.22425232689975205\n",
              " -1.2113200643083721\n",
              " -2.67909771546825\n",
              " -2.0071929943537286\n",
              "  1.809579698230519\n",
              " -1.5807374412560309\n",
              " -0.10169226630363723\n",
              " -0.45455122286051786\n",
              "  0.7620157945377333\n",
              " -1.9924306870471111"
            ]
          },
          "metadata": {},
          "execution_count": 13
        }
      ]
    },
    {
      "cell_type": "code",
      "source": [
        "import Pkg; Pkg.add(\"MLJBase\")"
      ],
      "metadata": {
        "colab": {
          "base_uri": "https://localhost:8080/"
        },
        "id": "2hXfwpN1pERX",
        "outputId": "7986a229-48de-4c9b-deb3-5b610d50522d"
      },
      "execution_count": 16,
      "outputs": [
        {
          "output_type": "stream",
          "name": "stderr",
          "text": [
            "\u001b[32m\u001b[1m   Resolving\u001b[22m\u001b[39m package versions...\n",
            "\u001b[32m\u001b[1m    Updating\u001b[22m\u001b[39m `~/.julia/environments/v1.10/Project.toml`\n",
            "  \u001b[90m[a7f614a8] \u001b[39m\u001b[92m+ MLJBase v1.7.0\u001b[39m\n",
            "\u001b[32m\u001b[1m  No Changes\u001b[22m\u001b[39m to `~/.julia/environments/v1.10/Manifest.toml`\n"
          ]
        }
      ]
    },
    {
      "cell_type": "code",
      "source": [
        "using SymbolicRegression\n",
        "using MLJBase: machine, fit!, report\n",
        "\n",
        "function my_structure((; f, g1, g2), (x1, x2, x3))\n",
        "    _f = f(x1, x2)\n",
        "    _g1 = g1(x3)\n",
        "    _g2 = g2(x3)\n",
        "\n",
        "    # We use `.x` to get the underlying vector\n",
        "    out = map((fi, g1i, g2i) -> (fi + g1i, fi + g2i), _f.x, _g1.x, _g2.x)\n",
        "    # And `.valid` to see whether the evaluations\n",
        "    return ValidVector(out, _f.valid && _g1.valid && _g2.valid)\n",
        "end\n",
        "structure = TemplateStructure{(:f, :g1, :g2)}(my_structure)"
      ],
      "metadata": {
        "colab": {
          "base_uri": "https://localhost:8080/"
        },
        "id": "bYKOronio6FQ",
        "outputId": "30b977d2-7cda-4d1c-f997-2200c1fcf3ac"
      },
      "execution_count": 32,
      "outputs": [
        {
          "output_type": "execute_result",
          "data": {
            "text/plain": [
              "(::TemplateStructure{(:f, :g1, :g2), typeof(my_structure), @NamedTuple{f::Int64, g1::Int64, g2::Int64}}) (generic function with 0 methods)"
            ]
          },
          "metadata": {},
          "execution_count": 32
        }
      ]
    },
    {
      "cell_type": "code",
      "source": [
        "function lj_potential_structure((; attr_func, rep_func), (rad, ))\n",
        "  _attr_func = attr_func(rad)^-12\n",
        "  _rep_func = rep_func(rad)^-6\n",
        "\n",
        "  out = map((attr_func_i, rep_func_i) -> (attr_func_i - rep_func_i), _attr_func.x, _rep_func.x)\n",
        "  return ValidVector(out, _attr_func.valid && _rep_func.valid)\n",
        "end\n",
        "lj_structure = TemplateStructure{(:attr_func, :rep_func)}(lj_potential_structure)"
      ],
      "metadata": {
        "colab": {
          "base_uri": "https://localhost:8080/"
        },
        "id": "hKPBPTfzuzvd",
        "outputId": "c0ae8989-f111-49e5-c669-b42ab15f9694"
      },
      "execution_count": 41,
      "outputs": [
        {
          "output_type": "execute_result",
          "data": {
            "text/plain": [
              "(::TemplateStructure{(:attr_func, :rep_func), typeof(lj_potential_structure), @NamedTuple{attr_func::Int64, rep_func::Int64}}) (generic function with 0 methods)"
            ]
          },
          "metadata": {},
          "execution_count": 41
        }
      ]
    },
    {
      "cell_type": "code",
      "source": [
        "X = rand(100, 3) .* 10\n",
        "\n",
        "y = [\n",
        "    (sin(X[i, 1]) + X[i, 3]^2, sin(X[i, 1]) + X[i, 3])\n",
        "    for i in eachindex(axes(X, 1))\n",
        "]"
      ],
      "metadata": {
        "colab": {
          "base_uri": "https://localhost:8080/"
        },
        "id": "dgANUcKXpKVo",
        "outputId": "4905a6ef-b265-4484-8420-af7999648e52"
      },
      "execution_count": 35,
      "outputs": [
        {
          "output_type": "execute_result",
          "data": {
            "text/plain": [
              "100-element Vector{Tuple{Float64, Float64}}:\n",
              " (21.840554630738517, 4.96709415668862)\n",
              " (15.28681304180029, 3.778531419128792)\n",
              " (10.310276027666779, 3.847953473729792)\n",
              " (24.720177387496992, 4.8149370612435)\n",
              " (80.4894212485866, 9.316202124658657)\n",
              " (61.82403950232539, 6.929141990905532)\n",
              " (91.04637721239007, 9.37255668370128)\n",
              " (45.53575341678187, 7.384218759084607)\n",
              " (9.936702084275998, 3.409888117712459)\n",
              " (55.81291923682466, 6.57459726463829)\n",
              " (63.54501702336823, 8.86531426613666)\n",
              " (12.46042008452883, 3.704335261835227)\n",
              " (27.087191147589106, 5.773148397610701)\n",
              " ⋮\n",
              " (56.06021646521159, 8.402384610536757)\n",
              " (63.01287070644966, 7.000858337963683)\n",
              " (-0.4952404123354181, -0.25082417554624015)\n",
              " (7.202198118271907, 3.0093204076087408)\n",
              " (1.6734419084681114, 1.8173048648790548)\n",
              " (1.057437334408116, 1.2396764509750922)\n",
              " (24.747215288393036, 4.154713559132587)\n",
              " (0.1611249743359573, 0.32066234224930545)\n",
              " (15.043789495567218, 3.5864499283965006)\n",
              " (16.073027512386755, 4.293684995785675)\n",
              " (7.789880645938832, 3.4288085051565025)\n",
              " (6.102837299436072, 3.085029710697281)"
            ]
          },
          "metadata": {},
          "execution_count": 35
        }
      ]
    },
    {
      "cell_type": "code",
      "source": [
        "using LinearAlgebra\n",
        "\n",
        "# Set parameters for Lennard-Jones potential\n",
        "epsilon = 1.0  # Depth of the potential well\n",
        "sigma = 1.0    # Finite distance at which the potential is zero\n",
        "\n",
        "# Generate random radial distances\n",
        "X = rand(100, 1) .* 10  # Random distances in a 3D space\n",
        "\n",
        "# Calculate Lennard-Jones potential for each radial distance\n",
        "Y = [\n",
        "    4 * epsilon * ((sigma / norm(X[i, :]))^12 - (sigma / norm(X[i, :]))^6)\n",
        "    for i in eachindex(axes(X, 1))\n",
        "]\n",
        "\n",
        "# Y now contains the Lennard-Jones potentials corresponding to each radial distance\n"
      ],
      "metadata": {
        "colab": {
          "base_uri": "https://localhost:8080/"
        },
        "id": "Cr4JsfK1y86B",
        "outputId": "b8ff0aca-e275-4c3f-a9ed-6e8e644cf731"
      },
      "execution_count": 49,
      "outputs": [
        {
          "output_type": "execute_result",
          "data": {
            "text/plain": [
              "100-element Vector{Float64}:\n",
              " -0.002207115310458205\n",
              " -0.00035928157637425147\n",
              " -0.011931915341852352\n",
              " -0.001503708040672303\n",
              " -0.001426637263613886\n",
              " -0.010000339425530986\n",
              " -0.7737111646266084\n",
              " 18.570299010860708\n",
              " -0.0025406434611354232\n",
              " -8.381298924398304e-6\n",
              " -0.018758175621607684\n",
              " -0.2819784358412525\n",
              " -0.01663329167729555\n",
              "  ⋮\n",
              " 13.074120431078924\n",
              " -4.047191959489278e-6\n",
              " -8.381394872340109e-6\n",
              " -0.1169401875397392\n",
              " -1.2644571202517626e-5\n",
              " -0.0014261940161023519\n",
              " -0.004807709374753719\n",
              " -8.52298747852645e-6\n",
              " -0.06954011670134806\n",
              " -0.0015821033225524351\n",
              " -0.0004035971815177588\n",
              " -6.883507563207863e-6"
            ]
          },
          "metadata": {},
          "execution_count": 49
        }
      ]
    },
    {
      "cell_type": "code",
      "source": [
        "elementwise_loss = ((x1), (y1)) -> (y1 - x1)^2"
      ],
      "metadata": {
        "colab": {
          "base_uri": "https://localhost:8080/"
        },
        "id": "LT06OWDlpNTq",
        "outputId": "92a61748-54c8-45a9-be92-480138ab24b3"
      },
      "execution_count": 50,
      "outputs": [
        {
          "output_type": "execute_result",
          "data": {
            "text/plain": [
              "#39 (generic function with 1 method)"
            ]
          },
          "metadata": {},
          "execution_count": 50
        }
      ]
    },
    {
      "cell_type": "code",
      "source": [
        "model = SRRegressor(;\n",
        "    binary_operators=(+, *, /),\n",
        "    #unary_operators=(sin,),\n",
        "    maxsize=15,\n",
        "    elementwise_loss=elementwise_loss,\n",
        "    expression_type=TemplateExpression,\n",
        "    # Note - this is where we pass custom options to the expression type:\n",
        "    #expression_options=(; structure),\n",
        "    expression_options=(; lj_structure),\n",
        ")\n",
        "\n",
        "mach = machine(model, X, Y)\n",
        "fit!(mach)"
      ],
      "metadata": {
        "colab": {
          "base_uri": "https://localhost:8080/",
          "height": 1000
        },
        "id": "B3UxT67IpQh5",
        "outputId": "ffcffc98-a4e6-4490-9ed1-9040b7312146"
      },
      "execution_count": 51,
      "outputs": [
        {
          "output_type": "stream",
          "name": "stderr",
          "text": [
            "\u001b[36m\u001b[1m[ \u001b[22m\u001b[39m\u001b[36m\u001b[1mInfo: \u001b[22m\u001b[39mTraining machine(SRRegressor(defaults = nothing, …), …).\n",
            "\u001b[91m\u001b[1m┌ \u001b[22m\u001b[39m\u001b[91m\u001b[1mError: \u001b[22m\u001b[39mProblem fitting the machine machine(SRRegressor(defaults = nothing, …), …). \n",
            "\u001b[91m\u001b[1m└ \u001b[22m\u001b[39m\u001b[90m@ MLJBase ~/.julia/packages/MLJBase/7nGJF/src/machines.jl:694\u001b[39m\n",
            "\u001b[36m\u001b[1m[ \u001b[22m\u001b[39m\u001b[36m\u001b[1mInfo: \u001b[22m\u001b[39mRunning type checks... \n",
            "\u001b[36m\u001b[1m[ \u001b[22m\u001b[39m\u001b[36m\u001b[1mInfo: \u001b[22m\u001b[39mType checks okay. \n"
          ]
        },
        {
          "output_type": "error",
          "ename": "LoadError",
          "evalue": "type NamedTuple has no field structure",
          "traceback": [
            "type NamedTuple has no field structure",
            "",
            "Stacktrace:",
            "  [1] getproperty",
            "    @ ./Base.jl:37 [inlined]",
            "  [2] create_expression(t::Node{Float64}, options::Options{SymbolicRegression.CoreModule.OptionsStructModule.ComplexityMapping{Int64, Int64}, DynamicExpressions.OperatorEnumModule.OperatorEnum{Tuple{typeof(+), typeof(*), typeof(/)}, Tuple{}}, Node, TemplateExpression, @NamedTuple{lj_structure::TemplateStructure{(:attr_func, :rep_func), typeof(lj_potential_structure), @NamedTuple{attr_func::Int64, rep_func::Int64}}}, MutationWeights, false, false, nothing, Nothing, 5}, dataset::Dataset{Float64, Float64, Matrix{Float64}, Vector{Float64}, Nothing, @NamedTuple{}, Nothing, Nothing, Nothing, Nothing}, ::Type{Node}, ::Type{TemplateExpression}, ::Val{false})",
            "    @ SymbolicRegression.TemplateExpressionModule ~/.julia/packages/SymbolicRegression/4LNgo/src/TemplateExpression.jl:236",
            "  [3] create_expression(t::Float64, options::Options{SymbolicRegression.CoreModule.OptionsStructModule.ComplexityMapping{Int64, Int64}, DynamicExpressions.OperatorEnumModule.OperatorEnum{Tuple{typeof(+), typeof(*), typeof(/)}, Tuple{}}, Node, TemplateExpression, @NamedTuple{lj_structure::TemplateStructure{(:attr_func, :rep_func), typeof(lj_potential_structure), @NamedTuple{attr_func::Int64, rep_func::Int64}}}, MutationWeights, false, false, nothing, Nothing, 5}, dataset::Dataset{Float64, Float64, Matrix{Float64}, Vector{Float64}, Nothing, @NamedTuple{}, Nothing, Nothing, Nothing, Nothing}, ::Type{Node}, ::Type{TemplateExpression}, ::Val{false})",
            "    @ SymbolicRegression.ExpressionBuilderModule ~/.julia/packages/SymbolicRegression/4LNgo/src/ExpressionBuilder.jl:53",
            "  [4] create_expression(t::Float64, options::Options{SymbolicRegression.CoreModule.OptionsStructModule.ComplexityMapping{Int64, Int64}, DynamicExpressions.OperatorEnumModule.OperatorEnum{Tuple{typeof(+), typeof(*), typeof(/)}, Tuple{}}, Node, TemplateExpression, @NamedTuple{lj_structure::TemplateStructure{(:attr_func, :rep_func), typeof(lj_potential_structure), @NamedTuple{attr_func::Int64, rep_func::Int64}}}, MutationWeights, false, false, nothing, Nothing, 5}, dataset::Dataset{Float64, Float64, Matrix{Float64}, Vector{Float64}, Nothing, @NamedTuple{}, Nothing, Nothing, Nothing, Nothing}, ::Val{false})",
            "    @ SymbolicRegression.ExpressionBuilderModule ~/.julia/packages/SymbolicRegression/4LNgo/src/ExpressionBuilder.jl:23",
            "  [5] create_expression(t::Float64, options::Options{SymbolicRegression.CoreModule.OptionsStructModule.ComplexityMapping{Int64, Int64}, DynamicExpressions.OperatorEnumModule.OperatorEnum{Tuple{typeof(+), typeof(*), typeof(/)}, Tuple{}}, Node, TemplateExpression, @NamedTuple{lj_structure::TemplateStructure{(:attr_func, :rep_func), typeof(lj_potential_structure), @NamedTuple{attr_func::Int64, rep_func::Int64}}}, MutationWeights, false, false, nothing, Nothing, 5}, dataset::Dataset{Float64, Float64, Matrix{Float64}, Vector{Float64}, Nothing, @NamedTuple{}, Nothing, Nothing, Nothing, Nothing})",
            "    @ SymbolicRegression.ExpressionBuilderModule ~/.julia/packages/SymbolicRegression/4LNgo/src/ExpressionBuilder.jl:23",
            "  [6] update_baseline_loss!(dataset::Dataset{Float64, Float64, Matrix{Float64}, Vector{Float64}, Nothing, @NamedTuple{}, Nothing, Nothing, Nothing, Nothing}, options::Options{SymbolicRegression.CoreModule.OptionsStructModule.ComplexityMapping{Int64, Int64}, DynamicExpressions.OperatorEnumModule.OperatorEnum{Tuple{typeof(+), typeof(*), typeof(/)}, Tuple{}}, Node, TemplateExpression, @NamedTuple{lj_structure::TemplateStructure{(:attr_func, :rep_func), typeof(lj_potential_structure), @NamedTuple{attr_func::Int64, rep_func::Int64}}}, MutationWeights, false, false, nothing, Nothing, 5})",
            "    @ SymbolicRegression.LossFunctionsModule ~/.julia/packages/SymbolicRegression/4LNgo/src/LossFunctions.jl:248",
            "  [7] _validate_options(datasets::Vector{Dataset{Float64, Float64, Matrix{Float64}, Vector{Float64}, Nothing, @NamedTuple{}, Nothing, Nothing, Nothing, Nothing}}, ropt::SymbolicRegression.SearchUtilsModule.RuntimeOptions{:multithreading, 1, true, Nothing}, options::Options{SymbolicRegression.CoreModule.OptionsStructModule.ComplexityMapping{Int64, Int64}, DynamicExpressions.OperatorEnumModule.OperatorEnum{Tuple{typeof(+), typeof(*), typeof(/)}, Tuple{}}, Node, TemplateExpression, @NamedTuple{lj_structure::TemplateStructure{(:attr_func, :rep_func), typeof(lj_potential_structure), @NamedTuple{attr_func::Int64, rep_func::Int64}}}, MutationWeights, false, false, nothing, Nothing, 5})",
            "    @ SymbolicRegression ~/.julia/packages/SymbolicRegression/4LNgo/src/SymbolicRegression.jl:561",
            "  [8] _equation_search(datasets::Vector{Dataset{Float64, Float64, Matrix{Float64}, Vector{Float64}, Nothing, @NamedTuple{}, Nothing, Nothing, Nothing, Nothing}}, ropt::SymbolicRegression.SearchUtilsModule.RuntimeOptions{:multithreading, 1, true, Nothing}, options::Options{SymbolicRegression.CoreModule.OptionsStructModule.ComplexityMapping{Int64, Int64}, DynamicExpressions.OperatorEnumModule.OperatorEnum{Tuple{typeof(+), typeof(*), typeof(/)}, Tuple{}}, Node, TemplateExpression, @NamedTuple{lj_structure::TemplateStructure{(:attr_func, :rep_func), typeof(lj_potential_structure), @NamedTuple{attr_func::Int64, rep_func::Int64}}}, MutationWeights, false, false, nothing, Nothing, 5}, saved_state::Nothing)",
            "    @ SymbolicRegression ~/.julia/packages/SymbolicRegression/4LNgo/src/SymbolicRegression.jl:531",
            "  [9] equation_search(datasets::Vector{Dataset{Float64, Float64, Matrix{Float64}, Vector{Float64}, Nothing, @NamedTuple{}, Nothing, Nothing, Nothing, Nothing}}; options::Options{SymbolicRegression.CoreModule.OptionsStructModule.ComplexityMapping{Int64, Int64}, DynamicExpressions.OperatorEnumModule.OperatorEnum{Tuple{typeof(+), typeof(*), typeof(/)}, Tuple{}}, Node, TemplateExpression, @NamedTuple{lj_structure::TemplateStructure{(:attr_func, :rep_func), typeof(lj_potential_structure), @NamedTuple{attr_func::Int64, rep_func::Int64}}}, MutationWeights, false, false, nothing, Nothing, 5}, saved_state::Nothing, runtime_options::Nothing, runtime_options_kws::@Kwargs{niterations::Int64, parallelism::Symbol, numprocs::Nothing, procs::Nothing, addprocs_function::Nothing, heap_size_hint_in_bytes::Nothing, runtests::Bool, return_state::Bool, run_id::Nothing, verbosity::Int64, logger::Nothing, progress::Nothing, v_dim_out::Val{1}})",
            "    @ SymbolicRegression ~/.julia/packages/SymbolicRegression/4LNgo/src/SymbolicRegression.jl:525",
            " [10] equation_search(X::Matrix{Float64}, y::Matrix{Float64}; niterations::Int64, weights::Nothing, options::Options{SymbolicRegression.CoreModule.OptionsStructModule.ComplexityMapping{Int64, Int64}, DynamicExpressions.OperatorEnumModule.OperatorEnum{Tuple{typeof(+), typeof(*), typeof(/)}, Tuple{}}, Node, TemplateExpression, @NamedTuple{lj_structure::TemplateStructure{(:attr_func, :rep_func), typeof(lj_potential_structure), @NamedTuple{attr_func::Int64, rep_func::Int64}}}, MutationWeights, false, false, nothing, Nothing, 5}, variable_names::Vector{String}, display_variable_names::Vector{String}, y_variable_names::Nothing, parallelism::Symbol, numprocs::Nothing, procs::Nothing, addprocs_function::Nothing, heap_size_hint_in_bytes::Nothing, runtests::Bool, saved_state::Nothing, return_state::Bool, run_id::Nothing, loss_type::Type{Nothing}, verbosity::Int64, logger::Nothing, progress::Nothing, X_units::Nothing, y_units::Nothing, extra::@NamedTuple{}, v_dim_out::Val{1}, multithreaded::Nothing)",
            "    @ SymbolicRegression ~/.julia/packages/SymbolicRegression/4LNgo/src/SymbolicRegression.jl:476",
            " [11] equation_search(X::Matrix{Float64}, y::Vector{Float64}; kw::@Kwargs{niterations::Int64, weights::Nothing, variable_names::Vector{String}, display_variable_names::Vector{String}, options::Options{SymbolicRegression.CoreModule.OptionsStructModule.ComplexityMapping{Int64, Int64}, DynamicExpressions.OperatorEnumModule.OperatorEnum{Tuple{typeof(+), typeof(*), typeof(/)}, Tuple{}}, Node, TemplateExpression, @NamedTuple{lj_structure::TemplateStructure{(:attr_func, :rep_func), typeof(lj_potential_structure), @NamedTuple{attr_func::Int64, rep_func::Int64}}}, MutationWeights, false, false, nothing, Nothing, 5}, parallelism::Symbol, numprocs::Nothing, procs::Nothing, addprocs_function::Nothing, heap_size_hint_in_bytes::Nothing, runtests::Bool, saved_state::Nothing, return_state::Bool, run_id::Nothing, loss_type::DataType, X_units::Nothing, y_units::Nothing, verbosity::Int64, extra::@NamedTuple{}, logger::Nothing, v_dim_out::Val{1}})",
            "    @ SymbolicRegression ~/.julia/packages/SymbolicRegression/4LNgo/src/SymbolicRegression.jl:499",
            " [12] _update(m::SRRegressor{DynamicQuantities.SymbolicDimensions{DynamicQuantities.FixedRational{Int32, 25200}}, DataType}, verbosity::Int64, old_fitresult::Nothing, old_cache::Nothing, X::Matrix{Float64}, y::Vector{Float64}, w::Nothing, options::Options{SymbolicRegression.CoreModule.OptionsStructModule.ComplexityMapping{Int64, Int64}, DynamicExpressions.OperatorEnumModule.OperatorEnum{Tuple{typeof(+), typeof(*), typeof(/)}, Tuple{}}, Node, TemplateExpression, @NamedTuple{lj_structure::TemplateStructure{(:attr_func, :rep_func), typeof(lj_potential_structure), @NamedTuple{attr_func::Int64, rep_func::Int64}}}, MutationWeights, false, false, nothing, Nothing, 5}, class::Nothing)",
            "    @ SymbolicRegression.MLJInterfaceModule ~/.julia/packages/SymbolicRegression/4LNgo/src/MLJInterface.jl:253",
            " [13] update(m::SRRegressor{DynamicQuantities.SymbolicDimensions{DynamicQuantities.FixedRational{Int32, 25200}}, DataType}, verbosity::Int64, old_fitresult::Nothing, old_cache::Nothing, X::Matrix{Float64}, y::Vector{Float64}, w::Nothing)",
            "    @ SymbolicRegression.MLJInterfaceModule ~/.julia/packages/SymbolicRegression/4LNgo/src/MLJInterface.jl:201",
            " [14] fit",
            "    @ SymbolicRegression.MLJInterfaceModule ~/.julia/packages/SymbolicRegression/4LNgo/src/MLJInterface.jl:189 [inlined]",
            " [15] fit(m::SRRegressor{DynamicQuantities.SymbolicDimensions{DynamicQuantities.FixedRational{Int32, 25200}}, DataType}, verbosity::Int64, X::Matrix{Float64}, y::Vector{Float64})",
            "    @ SymbolicRegression.MLJInterfaceModule ~/.julia/packages/SymbolicRegression/4LNgo/src/MLJInterface.jl:189",
            " [16] fit_only!(mach::MLJBase.Machine{SRRegressor{DynamicQuantities.SymbolicDimensions{DynamicQuantities.FixedRational{Int32, 25200}}, DataType}, SRRegressor{DynamicQuantities.SymbolicDimensions{DynamicQuantities.FixedRational{Int32, 25200}}, DataType}, true}; rows::Nothing, verbosity::Int64, force::Bool, composite::Nothing)",
            "    @ MLJBase ~/.julia/packages/MLJBase/7nGJF/src/machines.jl:692",
            " [17] fit_only!",
            "    @ MLJBase ~/.julia/packages/MLJBase/7nGJF/src/machines.jl:617 [inlined]",
            " [18] #fit!#63",
            "    @ MLJBase ~/.julia/packages/MLJBase/7nGJF/src/machines.jl:789 [inlined]",
            " [19] fit!(mach::MLJBase.Machine{SRRegressor{DynamicQuantities.SymbolicDimensions{DynamicQuantities.FixedRational{Int32, 25200}}, DataType}, SRRegressor{DynamicQuantities.SymbolicDimensions{DynamicQuantities.FixedRational{Int32, 25200}}, DataType}, true})",
            "    @ MLJBase ~/.julia/packages/MLJBase/7nGJF/src/machines.jl:786",
            " [20] top-level scope",
            "    @ In[51]:13"
          ]
        }
      ]
    },
    {
      "cell_type": "code",
      "source": [
        "report(mach)"
      ],
      "metadata": {
        "colab": {
          "base_uri": "https://localhost:8080/"
        },
        "id": "cHRX0Ql-pUgQ",
        "outputId": "2d580340-bc2e-451a-b949-e47425646432"
      },
      "execution_count": 21,
      "outputs": [
        {
          "output_type": "execute_result",
          "data": {
            "text/plain": [
              "(best_idx = 3,\n",
              " equations = TemplateExpression{Float64, TemplateStructure{(:f, :g1, :g2), typeof(my_structure), @NamedTuple{f::Int64, g1::Int64, g2::Int64}}, Node{Float64}, ComposableExpression{Float64, Node{Float64}, @NamedTuple{operators::DynamicExpressions.OperatorEnumModule.OperatorEnum{Tuple{typeof(+), typeof(*)}, Tuple{typeof(sin)}}, variable_names::Nothing}}, @NamedTuple{f::ComposableExpression{Float64, Node{Float64}, @NamedTuple{operators::DynamicExpressions.OperatorEnumModule.OperatorEnum{Tuple{typeof(+), typeof(*)}, Tuple{typeof(sin)}}, variable_names::Nothing}}, g1::ComposableExpression{Float64, Node{Float64}, @NamedTuple{operators::DynamicExpressions.OperatorEnumModule.OperatorEnum{Tuple{typeof(+), typeof(*)}, Tuple{typeof(sin)}}, variable_names::Nothing}}, g2::ComposableExpression{Float64, Node{Float64}, @NamedTuple{operators::DynamicExpressions.OperatorEnumModule.OperatorEnum{Tuple{typeof(+), typeof(*)}, Tuple{typeof(sin)}}, variable_names::Nothing}}}, @NamedTuple{structure::TemplateStructure{(:f, :g1, :g2), typeof(my_structure), @NamedTuple{f::Int64, g1::Int64, g2::Int64}}, operators::DynamicExpressions.OperatorEnumModule.OperatorEnum{Tuple{typeof(+), typeof(*)}, Tuple{typeof(sin)}}, variable_names::Vector{String}}}[f = 0.3041697499036822; g1 = 36.844389207101216; g2 = #1, f = 0.3041697548702542; g1 = #1 * #1; g2 = #1, f = sin(#1); g1 = #1 * #1; g2 = #1],\n",
              " equation_strings = StyledStrings.AnnotatedStrings.AnnotatedString{String}[StyledStrings.AnnotatedStrings.AnnotatedString{String}(\"f = 0.3041697499036822; g1 = 36.844389207101216; g2 = #1\", []), StyledStrings.AnnotatedStrings.AnnotatedString{String}(\"f = 0.3041697548702542; g1 = #1 * #1; g2 = #1\", []), StyledStrings.AnnotatedStrings.AnnotatedString{String}(\"f = sin(#1); g1 = #1 * #1; g2 = #1\", [])],\n",
              " losses = [917.6747120484121, 0.7957827282971925, 0.0],\n",
              " complexities = [3, 5, 6],\n",
              " scores = [12.014551129705717, 3.525136034224379, 36.04365338911715],)"
            ]
          },
          "metadata": {},
          "execution_count": 21
        }
      ]
    },
    {
      "cell_type": "code",
      "source": [
        "r = report(mach)\n",
        "idx = r.best_idx\n",
        "best_expr = r.equations[idx]\n",
        "best_f = get_contents(best_expr).f\n",
        "best_g1 = get_contents(best_expr).g1\n",
        "best_g2 = get_contents(best_expr).g2"
      ],
      "metadata": {
        "colab": {
          "base_uri": "https://localhost:8080/"
        },
        "id": "i-LP1M5kpXtv",
        "outputId": "b44f96bc-26ba-4d09-c6b3-940ea786349b"
      },
      "execution_count": 22,
      "outputs": [
        {
          "output_type": "execute_result",
          "data": {
            "text/plain": [
              "x1"
            ]
          },
          "metadata": {},
          "execution_count": 22
        }
      ]
    },
    {
      "cell_type": "markdown",
      "metadata": {
        "id": "2UMidUQB03vJ"
      },
      "source": [
        "Add new code cells by clicking the `+ Code` button (or _Insert_ > _Code cell_).\n",
        "\n",
        "Have fun!\n",
        "\n",
        "<img src=\"https://raw.githubusercontent.com/JuliaLang/julia-logo-graphics/master/images/julia-logo-mask.png\" height=\"100\" />"
      ]
    }
  ]
}