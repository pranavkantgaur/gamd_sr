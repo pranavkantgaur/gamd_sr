{
  "nbformat": 4,
  "nbformat_minor": 0,
  "metadata": {
    "colab": {
      "provenance": [],
      "authorship_tag": "ABX9TyOzNGAJILeb/B3legIzv1Sw",
      "include_colab_link": true
    },
    "kernelspec": {
      "name": "python3",
      "display_name": "Python 3"
    },
    "language_info": {
      "name": "python"
    }
  },
  "cells": [
    {
      "cell_type": "markdown",
      "metadata": {
        "id": "view-in-github",
        "colab_type": "text"
      },
      "source": [
        "<a href=\"https://colab.research.google.com/github/pranavkantgaur/gamd_sr/blob/main/deliverible.ipynb\" target=\"_parent\"><img src=\"https://colab.research.google.com/assets/colab-badge.svg\" alt=\"Open In Colab\"/></a>"
      ]
    },
    {
      "cell_type": "markdown",
      "source": [
        "## Objective\n",
        "1. Demonstrate the existence and merits of algorithm alignment in GNNs for physical simulations, if any.\n",
        "\n",
        "## Tasks\n",
        "1. Loads a dataset from LJ, tip3w, tip4w, DFT\n",
        "2. Optionally, generates MD dataset by passing a custom potential energy expressions as input\n",
        "3. Loads relevant GNN model based on dataset complexity\n",
        "4. Trains GNN and records edge messages of the converged model\n",
        "5. Depending on the underlying custom potential, defines SR inputs and outputs\n",
        "   1. Does edge message preprocessing to make sure input to output is a function\n",
        "6. Trains SR\n",
        "7. Plots pred vs gt curve for best SR equation\n",
        "8. Discusses algorithm alignment of GNNs with the underlying physical phenomenon algorithm.\n",
        "9. Perhaps demomstrates the benefits of algo. alignment:\n",
        "   1. Whether algo. alignment is natural in GNNs or it happens becuase of the inductive biases?"
      ],
      "metadata": {
        "id": "zBDelF3uS7n6"
      }
    },
    {
      "cell_type": "markdown",
      "source": [
        "### Load dataset"
      ],
      "metadata": {
        "id": "XfsBHVY0TzZI"
      }
    },
    {
      "cell_type": "markdown",
      "source": [
        "### Optionally, generate MD dataset"
      ],
      "metadata": {
        "id": "o5zDEG7-T3o0"
      }
    },
    {
      "cell_type": "markdown",
      "source": [
        "### Setup appropriate GNN model"
      ],
      "metadata": {
        "id": "vRaN5O97T_UN"
      }
    },
    {
      "cell_type": "markdown",
      "source": [
        "### Train GNN and record edge messages"
      ],
      "metadata": {
        "id": "Q4AJx60kUGOg"
      }
    },
    {
      "cell_type": "markdown",
      "source": [
        "### Define SR inputs and outputs"
      ],
      "metadata": {
        "id": "vvC-JXEZUMxP"
      }
    },
    {
      "cell_type": "markdown",
      "source": [
        "### Train SR"
      ],
      "metadata": {
        "id": "Snqt-4ZrUO75"
      }
    },
    {
      "cell_type": "markdown",
      "source": [
        "### Plot pred vs gt curve for best SR equation"
      ],
      "metadata": {
        "id": "OsoCkDcRUTaN"
      }
    },
    {
      "cell_type": "markdown",
      "source": [
        "### Algorithm alignment of GNNs ?"
      ],
      "metadata": {
        "id": "nVYWehfBUJkl"
      }
    },
    {
      "cell_type": "markdown",
      "source": [
        "### Benefits of algo. alignment ?"
      ],
      "metadata": {
        "id": "zWIop2H7Uh74"
      }
    },
    {
      "cell_type": "markdown",
      "source": [],
      "metadata": {
        "id": "fBArNOrLT8tS"
      }
    },
    {
      "cell_type": "code",
      "execution_count": null,
      "metadata": {
        "id": "ApCGIefqSwMT"
      },
      "outputs": [],
      "source": []
    }
  ]
}